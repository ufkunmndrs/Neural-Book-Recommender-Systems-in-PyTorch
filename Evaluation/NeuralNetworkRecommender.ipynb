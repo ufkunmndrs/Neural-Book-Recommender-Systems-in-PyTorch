{
 "cells": [
  {
   "cell_type": "markdown",
   "metadata": {},
   "source": [
    "# Neural Recommender System\n",
    "The Neural Recommender System is an extension of the (biased) Matrix Factorization, as it now includes one or multiple hidden layer units with activation functions, dropout and again weight decay. I trained and validated the Neural Recommender on the same training and validation dataset, respectively, as the other two models, with testing being done on the same testset to provide equal footing for all three models. The Neural Network architecture is simple with just one hidden layer of size ten, dropout of 0.1, and reLU activation function."
   ]
  },
  {
   "cell_type": "code",
   "execution_count": 1,
   "metadata": {},
   "outputs": [
    {
     "name": "stdout",
     "output_type": "stream",
     "text": [
      "Number of users: 53424, Number of books: 10000, Min rating: 1, Max rating: 5\n",
      "Epoch:0, Loss:17.53957748413086\n",
      "Epoch:1, Loss:12.964643478393555\n",
      "Epoch:2, Loss:8.857156753540039\n",
      "Epoch:3, Loss:5.309146404266357\n",
      "Epoch:4, Loss:2.6900715827941895\n",
      "Epoch:5, Loss:1.326866865158081\n",
      "Epoch:6, Loss:1.3776589632034302\n",
      "Epoch:7, Loss:2.4399001598358154\n",
      "Epoch:8, Loss:3.467172384262085\n",
      "Epoch:9, Loss:3.7803616523742676\n",
      "Epoch:10, Loss:3.4083034992218018\n",
      "Epoch:11, Loss:2.681684732437134\n",
      "Epoch:12, Loss:1.9351897239685059\n",
      "Epoch:13, Loss:1.386031150817871\n",
      "Epoch:14, Loss:1.1143184900283813\n",
      "Epoch:15, Loss:1.089106559753418\n",
      "Epoch:16, Loss:1.2289141416549683\n",
      "Epoch:17, Loss:1.4336835145950317\n",
      "Epoch:18, Loss:1.621253252029419\n",
      "Epoch:19, Loss:1.741132378578186\n",
      "Epoch:20, Loss:1.7698665857315063\n",
      "Epoch:21, Loss:1.7097876071929932\n",
      "Epoch:22, Loss:1.5779837369918823\n",
      "Epoch:23, Loss:1.4056493043899536\n",
      "Epoch:24, Loss:1.2256267070770264\n",
      "Epoch:25, Loss:1.0715367794036865\n",
      "Epoch:26, Loss:0.9663290977478027\n",
      "Epoch:27, Loss:0.923559844493866\n",
      "Epoch:28, Loss:0.9369006156921387\n",
      "Epoch:29, Loss:0.9865008592605591\n",
      "Epoch:30, Loss:1.0443775653839111\n",
      "Epoch:31, Loss:1.0831773281097412\n",
      "Epoch:32, Loss:1.085168719291687\n",
      "Epoch:33, Loss:1.0507394075393677\n",
      "Epoch:34, Loss:0.9900444746017456\n",
      "Epoch:35, Loss:0.9236856698989868\n",
      "Epoch:36, Loss:0.8672516345977783\n",
      "Epoch:37, Loss:0.832435667514801\n",
      "Epoch:38, Loss:0.8217675685882568\n",
      "Epoch:39, Loss:0.8274336457252502\n",
      "Epoch:40, Loss:0.8435447812080383\n",
      "Epoch:41, Loss:0.8587892055511475\n",
      "Epoch:42, Loss:0.8646782040596008\n",
      "Epoch:43, Loss:0.8603087067604065\n",
      "Epoch:44, Loss:0.8450325131416321\n",
      "Epoch:45, Loss:0.821061909198761\n",
      "Epoch:46, Loss:0.7959597706794739\n",
      "Epoch:47, Loss:0.7736902832984924\n",
      "Epoch:48, Loss:0.7587681412696838\n",
      "Epoch:49, Loss:0.7514834403991699\n",
      "Epoch:50, Loss:0.751081109046936\n",
      "Epoch:51, Loss:0.7549201250076294\n",
      "Epoch:52, Loss:0.7573198080062866\n",
      "Epoch:53, Loss:0.756479024887085\n",
      "Epoch:54, Loss:0.752029538154602\n",
      "Epoch:55, Loss:0.7432664036750793\n",
      "Epoch:56, Loss:0.7333027124404907\n",
      "Epoch:57, Loss:0.7251230478286743\n",
      "Epoch:58, Loss:0.7195842862129211\n",
      "Epoch:59, Loss:0.7167892456054688\n",
      "Epoch:60, Loss:0.7171146273612976\n",
      "Epoch:61, Loss:0.7184032201766968\n",
      "Epoch:62, Loss:0.7182744741439819\n",
      "Epoch:63, Loss:0.7176510691642761\n",
      "Epoch:64, Loss:0.7150670289993286\n",
      "Epoch:65, Loss:0.7103269100189209\n",
      "Epoch:66, Loss:0.7059889435768127\n",
      "Epoch:67, Loss:0.7023249268531799\n",
      "Epoch:68, Loss:0.6986596584320068\n",
      "Epoch:69, Loss:0.6962577700614929\n",
      "Epoch:70, Loss:0.69576495885849\n",
      "Epoch:71, Loss:0.6946398615837097\n",
      "Epoch:72, Loss:0.6938262581825256\n",
      "Epoch:73, Loss:0.6932491660118103\n",
      "Epoch:74, Loss:0.6914553046226501\n",
      "Epoch:75, Loss:0.6898463368415833\n",
      "Epoch:76, Loss:0.6880046129226685\n",
      "Epoch:77, Loss:0.6871495842933655\n",
      "Epoch:78, Loss:0.6857698559761047\n",
      "Epoch:79, Loss:0.6856468319892883\n",
      "Epoch:80, Loss:0.6861453056335449\n",
      "Epoch:81, Loss:0.6853997707366943\n",
      "Epoch:82, Loss:0.6846509575843811\n",
      "Epoch:83, Loss:0.6841453313827515\n",
      "Epoch:84, Loss:0.6828274726867676\n",
      "Epoch:85, Loss:0.6816667318344116\n",
      "Epoch:86, Loss:0.6807984113693237\n",
      "Epoch:87, Loss:0.67984938621521\n",
      "Epoch:88, Loss:0.6790008544921875\n",
      "Epoch:89, Loss:0.678378164768219\n",
      "Epoch:90, Loss:0.6780744194984436\n",
      "Epoch:91, Loss:0.678078293800354\n",
      "Epoch:92, Loss:0.6769273281097412\n",
      "Epoch:93, Loss:0.6769861578941345\n",
      "Epoch:94, Loss:0.6758727431297302\n",
      "Epoch:95, Loss:0.6756425499916077\n",
      "Epoch:96, Loss:0.6758302450180054\n",
      "Epoch:97, Loss:0.6760299205780029\n",
      "Epoch:98, Loss:0.6759039163589478\n",
      "Epoch:99, Loss:0.6753209829330444\n",
      "test loss 0.732 \n"
     ]
    }
   ],
   "source": [
    "#!/usr/bin/env python3\n",
    "# -*- coding: utf-8 -*-\n",
    "\"\"\"\n",
    "Created on Tue Oct 05 01:22:46 2020\n",
    "\n",
    "@author: Ufkun-Bayram Menderes\n",
    "\n",
    "This Python Module contains the implementation of \n",
    "Neural Recommender Class and its training on the goodbooks10k dataset. The Neural\n",
    "Recommender is implemented in PyTorch.\n",
    "\"\"\"\n",
    "import pandas as pd\n",
    "import torch\n",
    "import torch.nn as nn\n",
    "import torch.nn.functional as F\n",
    "import torch.optim as optim\n",
    "import numpy as np\n",
    "# import the loaded test, validation and trainingsdata\n",
    "from load_goodbooks_ds import *\n",
    "from train import train_epochs, test_loss\n",
    "from encode_books import proc_col, encode_data\n",
    "from metrics import *\n",
    "\n",
    "\n",
    "\n",
    "\n",
    "###############################################################################\n",
    "# 1st part: Loading the goodbooks dataset from the load_goodbooks_ds.py file\n",
    "# In that file, the dataset is alredy split up into training, validation and test\n",
    "# sets. \n",
    "# train_ratings = Training set, valid_ratings = validation set, test_rating = \n",
    "# testset. The training set consists of 80% of the data in the goodbooks10k \n",
    "# dataset, while validation and training make up 10% each. \n",
    "###############################################################################\n",
    "\n",
    "\n",
    "# number of users for embeddings = 53424\n",
    "num_users = train_ratings.user_id.nunique()\n",
    "# number of books = 10000\n",
    "num_items = train_ratings.book_id.nunique()\n",
    "# determine min and max ratings\n",
    "min_rating = min(ratings[\"rating\"])\n",
    "max_rating = max(ratings[\"rating\"])\n",
    "second_highest = max_rating - 1\n",
    "\n",
    "min_user_id = min(ratings[\"user_id\"])\n",
    "max_user_id = max(ratings[\"user_id\"])\n",
    "\n",
    "print(\"Number of users: {}, Number of books: {}, Min rating: {}, Max rating: {}\"\n",
    "      .format(num_users_total, num_items, min_rating, max_rating))\n",
    "\n",
    "###############################################################################\n",
    "# Now we create the RecommenderNet Class which is our Neural Recommender based \n",
    "# on a Neural Network with one hidden layer, reLu activation \n",
    "# for hidden layers, and default dropout of 0.01\n",
    "###############################################################################\n",
    "\n",
    "\n",
    "class RecommenderNet(nn.Module):\n",
    "    def __init__(self, num_users, num_items, emb_size=100, n_hidden=10):\n",
    "        \"\"\"\n",
    "        PyTorch Module for Neural Recommender on goodbooks10k dataset\n",
    "\n",
    "        Parameters\n",
    "        ----------\n",
    "        num_users : int\n",
    "            number of unique users in the dataset\n",
    "        num_items : int\n",
    "            number of unique items(books) in the dataset\n",
    "        emb_size : int, optional\n",
    "            size of user-item embeddings. The default is 100.\n",
    "        n_hidden : int, optional\n",
    "            (output) size of hidden layers. The default is 10.\n",
    "        \n",
    "\n",
    "        Returns\n",
    "        -------\n",
    "        RecommenderNet object\n",
    "        RecommenderNet object as Neural Recommender\n",
    "\n",
    "        \"\"\"\n",
    "        super(RecommenderNet, self).__init__()\n",
    "        # initialize embedding layers\n",
    "        self.user_embedding = nn.Embedding(num_users, emb_size)\n",
    "        self.item_embedding = nn.Embedding(num_items, emb_size)\n",
    "        # initialize hidden layers and linear transformation\n",
    "        self.hl1 = nn.Linear(emb_size*2, n_hidden)\n",
    "        self.hl2 = nn.Linear(n_hidden, 1)\n",
    "        # set dropout\n",
    "        self.dropout = nn.Dropout(0.1)\n",
    "        \n",
    "    def forward(self, user, item):\n",
    "        \"\"\"\n",
    "        Forward pass for the Neural Recommender\n",
    "\n",
    "        Parameters\n",
    "        ----------\n",
    "        user : int\n",
    "            user_id, numerical representation of a user in the goodbooks dataset\n",
    "        item : int\n",
    "            book_id, numerical representation of a user \n",
    "\n",
    "        Returns\n",
    "        -------\n",
    "        x : torch.tensor\n",
    "            Pytorch Tensor containing output of forward pass\n",
    "\n",
    "        \"\"\"\n",
    "        user_vector = self.user_embedding(user)\n",
    "        item_vector = self.item_embedding(item)\n",
    "        x = F.relu(torch.cat([user_vector, item_vector], dim=1))\n",
    "        x = self.dropout(x)\n",
    "        x = F.relu(self.hl1(x))\n",
    "        x = self.hl2(x)\n",
    "        return x\n",
    "    \n",
    "    def recommend(self, userID, n=150, r=3):\n",
    "        \"\"\"\n",
    "        Computes the recommendations for a user with collaborative filtering\n",
    "\n",
    "        Parameters\n",
    "        ----------\n",
    "        userID : int\n",
    "            user ID in the goodbooks dataset, must be be between 1 and\n",
    "            53424\n",
    "        n : int, optional\n",
    "             number of recommendations returned by the system.\n",
    "             The default is 10.\n",
    "        \n",
    "        r : int, optinal\n",
    "            number of decimal places to which the predicted ratings are rounded \n",
    "            up to. The default is 3\n",
    "\n",
    "        Returns\n",
    "        -------\n",
    "        recommended_books : pandas\n",
    "            pandas dataframe containing user recommendation with predicted rating\n",
    "            columns in order: id, \n",
    "\n",
    "        \"\"\"\n",
    "        # Verify that user is correct\n",
    "        if userID > max_user_id or userID < min_user_id:\n",
    "            raise ValueError(\"Invalid user ID\")\n",
    "        #load preprocessed books.csv file from goodbooks\n",
    "        books = load_books()\n",
    "        # create book vector for books\n",
    "        books_vec = torch.tensor(ratings['book_id'].unique().tolist()) - 1\n",
    "        # create user vector\n",
    "        user_vec = torch.tensor([userID])\n",
    "        # get shape of book vector\n",
    "        books_shape = list(books_vec.shape)\n",
    "        books_shape = books_shape[0]\n",
    "        # resize user vector to a compatible size with book vector\n",
    "        user_vec = torch.cat([user_vec]*books_shape)\n",
    "        # compute ratings prediction for user by forwardpass\n",
    "        predictions = self.forward(user_vec, books_vec)\n",
    "        # make numpy array out of predictions\n",
    "        predictions = np.array([a[0] for a in predictions])\n",
    "        # get book id's into a list\n",
    "        book_ids = ratings.book_id.unique()\n",
    "        # convert predictions into a list with float elements\n",
    "        predictions = predictions.tolist()\n",
    "        # get predicted item ratings out of tensor elements\n",
    "        # make a list out of the ratings\n",
    "        predictions = [i.item() for i in predictions]\n",
    "        # zip the book_ids and corresponding rating prediction to a list of \n",
    "        # (rating, id) tuples\n",
    "        predictions = list(zip(predictions, book_ids))\n",
    "        # get the books which the user has alread read\n",
    "        user_books_read = ratings[ratings.user_id == userID]\n",
    "        # make a list out of the book_id's that user has alread read\n",
    "        read_list = list(user_books_read.book_id)\n",
    "        # make an empty list for unread books, fill it with book_ids\n",
    "        # of books that user has not rated/read yet\n",
    "        unread_books = []\n",
    "        for book in predictions:\n",
    "            if book[1] not in read_list:\n",
    "                unread_books.append(book)\n",
    "        # sort the elements according to their rating, top ratings at top\n",
    "        unread_books = sorted(unread_books, key=lambda book_tuple: book_tuple[0],\n",
    "                              reverse=True)\n",
    "        # indice the list on desired top n elements\n",
    "        top_n_books = unread_books[:n]\n",
    "        # get book_ids of top n elements\n",
    "        top_n_book_ids = [books[1] for books in top_n_books]\n",
    "        # get the full book information of these books from books.csv dataset\n",
    "        recommended_books = books[books[\"id\"].isin(top_n_book_ids)]\n",
    "        # make dict out of top_n_books, keys=ratings, values=ids\n",
    "        book_rating_dict = dict(top_n_books)\n",
    "        # reverse keys and values s.t. ids are keys, ratings are values\n",
    "        book_rating_dict = {value:key for key, value in book_rating_dict.items()}\n",
    "        # make tuples out key, value elements, save them in the new list\n",
    "        books_list_rev = [(k, v) for k, v in book_rating_dict.items()]\n",
    "        # add a new dataframe with id, predicted rating tuples\n",
    "        book_rating_tups = pd.DataFrame(books_list_rev, columns=['id','predicted_rating'])\n",
    "        # merge both dataframes into one, id's column is common columns\n",
    "        recommended_books = recommended_books.merge(book_rating_tups)\n",
    "        # change predicted ratings >= 5.0 to 5\n",
    "        recommended_books.loc[recommended_books['predicted_rating'] > 5.0, 'predicted_rating'] = 5.0\n",
    "        # sort the predicted_rating column such that ratings with highest values\n",
    "        # are at the top with descending order\n",
    "        recommended_books = recommended_books.sort_values('predicted_rating', ascending=False)\n",
    "        # round the values for predicted ratings\n",
    "        recommended_books = recommended_books.round({'predicted_rating':r})\n",
    "        # create new columns for predicted ratings on a 1-5 scale\n",
    "        recommended_books['predicted_rating_scaled'] = recommended_books['predicted_rating']\n",
    "        # round the ratings to zero decimal places so only values from 1-5 exist\n",
    "        recommended_books = recommended_books.round({'predicted_rating_scaled':0})\n",
    "        # return recommended books\n",
    "        return recommended_books\n",
    "        \n",
    "        \n",
    "\n",
    "# initialize the model by creating object of RecommenderNet class   \n",
    "model = RecommenderNet(num_users, num_items, emb_size=100)\n",
    "# train the model on test and validation dataset with weight decay\n",
    "train_epochs(model, epochs=100, lr=0.01, wd=1e-6, unsqueeze=True)\n",
    "\n",
    "\n",
    "# create test inputs and calculate test predictions\n",
    "test_users = torch.LongTensor(test_ratings.user_id.values)\n",
    "test_books = torch.LongTensor(test_ratings.book_id.values)\n",
    "# test predictions are returned as torch.tensor object\n",
    "test_predictions = model(test_users, test_books)\n",
    "# make list out of test_predictions\n",
    "test_predictions = test_predictions.tolist()\n",
    "# round the predictions zero decimal places \n",
    "test_predictions = [ratings[0] for ratings in test_predictions]\n",
    "test_predictions = list(np.around(test_predictions, 0))\n"
   ]
  },
  {
   "cell_type": "markdown",
   "metadata": {},
   "source": [
    "As can be seen, the Neural Recommender provides the highest loss for training and validation, which may come as a surprise."
   ]
  },
  {
   "cell_type": "markdown",
   "metadata": {},
   "source": [
    "### Recommending items for a random user\n",
    "Now, just, as before, I will recommend items to the randomly chosen user with id = 1500"
   ]
  },
  {
   "cell_type": "code",
   "execution_count": 3,
   "metadata": {},
   "outputs": [
    {
     "data": {
      "text/html": [
       "<div>\n",
       "<style scoped>\n",
       "    .dataframe tbody tr th:only-of-type {\n",
       "        vertical-align: middle;\n",
       "    }\n",
       "\n",
       "    .dataframe tbody tr th {\n",
       "        vertical-align: top;\n",
       "    }\n",
       "\n",
       "    .dataframe thead th {\n",
       "        text-align: right;\n",
       "    }\n",
       "</style>\n",
       "<table border=\"1\" class=\"dataframe\">\n",
       "  <thead>\n",
       "    <tr style=\"text-align: right;\">\n",
       "      <th></th>\n",
       "      <th>id</th>\n",
       "      <th>isbn</th>\n",
       "      <th>authors</th>\n",
       "      <th>year</th>\n",
       "      <th>title</th>\n",
       "      <th>avg_rating</th>\n",
       "      <th>predicted_rating</th>\n",
       "      <th>predicted_rating_scaled</th>\n",
       "    </tr>\n",
       "  </thead>\n",
       "  <tbody>\n",
       "    <tr>\n",
       "      <th>75</th>\n",
       "      <td>7852</td>\n",
       "      <td>842339655</td>\n",
       "      <td>R.C. Sproul</td>\n",
       "      <td>1984.0</td>\n",
       "      <td>The Holiness of God</td>\n",
       "      <td>4.35</td>\n",
       "      <td>5.000</td>\n",
       "      <td>5.0</td>\n",
       "    </tr>\n",
       "    <tr>\n",
       "      <th>115</th>\n",
       "      <td>9076</td>\n",
       "      <td>402366174</td>\n",
       "      <td>The Church of Jesus Christ of Latter-day Saints</td>\n",
       "      <td>2004.0</td>\n",
       "      <td>Preach My Gospel: A Guide To Missionary Service</td>\n",
       "      <td>4.71</td>\n",
       "      <td>5.000</td>\n",
       "      <td>5.0</td>\n",
       "    </tr>\n",
       "    <tr>\n",
       "      <th>35</th>\n",
       "      <td>6527</td>\n",
       "      <td>163215711X</td>\n",
       "      <td>Brian K. Vaughan, Fiona Staples</td>\n",
       "      <td>2016.0</td>\n",
       "      <td>Saga, Vol. 6 (Saga, #6)</td>\n",
       "      <td>4.49</td>\n",
       "      <td>5.000</td>\n",
       "      <td>5.0</td>\n",
       "    </tr>\n",
       "    <tr>\n",
       "      <th>111</th>\n",
       "      <td>8978</td>\n",
       "      <td>1417642122</td>\n",
       "      <td>Bill Watterson</td>\n",
       "      <td>1991.0</td>\n",
       "      <td>The Revenge of the Baby-Sat</td>\n",
       "      <td>4.71</td>\n",
       "      <td>5.000</td>\n",
       "      <td>5.0</td>\n",
       "    </tr>\n",
       "    <tr>\n",
       "      <th>37</th>\n",
       "      <td>6590</td>\n",
       "      <td>751507954</td>\n",
       "      <td>Bill Watterson</td>\n",
       "      <td>1990.0</td>\n",
       "      <td>The Authoritative Calvin and Hobbes: A Calvin ...</td>\n",
       "      <td>4.73</td>\n",
       "      <td>5.000</td>\n",
       "      <td>5.0</td>\n",
       "    </tr>\n",
       "    <tr>\n",
       "      <th>...</th>\n",
       "      <td>...</td>\n",
       "      <td>...</td>\n",
       "      <td>...</td>\n",
       "      <td>...</td>\n",
       "      <td>...</td>\n",
       "      <td>...</td>\n",
       "      <td>...</td>\n",
       "      <td>...</td>\n",
       "    </tr>\n",
       "    <tr>\n",
       "      <th>116</th>\n",
       "      <td>9110</td>\n",
       "      <td>1596434872</td>\n",
       "      <td>Steve Sheinkin</td>\n",
       "      <td>2012.0</td>\n",
       "      <td>Bomb: The Race to Buildâand Stealâthe Worl...</td>\n",
       "      <td>4.12</td>\n",
       "      <td>4.887</td>\n",
       "      <td>5.0</td>\n",
       "    </tr>\n",
       "    <tr>\n",
       "      <th>58</th>\n",
       "      <td>7327</td>\n",
       "      <td>1566562937</td>\n",
       "      <td>Amin Maalouf, Russell Harris</td>\n",
       "      <td>1988.0</td>\n",
       "      <td>Samarkand</td>\n",
       "      <td>4.20</td>\n",
       "      <td>4.887</td>\n",
       "      <td>5.0</td>\n",
       "    </tr>\n",
       "    <tr>\n",
       "      <th>114</th>\n",
       "      <td>9032</td>\n",
       "      <td>020161622X</td>\n",
       "      <td>Andrew Hunt, Dave Thomas</td>\n",
       "      <td>1999.0</td>\n",
       "      <td>The Pragmatic Programmer: From Journeyman to M...</td>\n",
       "      <td>4.31</td>\n",
       "      <td>4.887</td>\n",
       "      <td>5.0</td>\n",
       "    </tr>\n",
       "    <tr>\n",
       "      <th>98</th>\n",
       "      <td>8567</td>\n",
       "      <td>1421506289</td>\n",
       "      <td>Tsugumi Ohba, Takeshi Obata</td>\n",
       "      <td>2005.0</td>\n",
       "      <td>Death Note, Vol. 7: Zero (Death Note, #7)</td>\n",
       "      <td>4.41</td>\n",
       "      <td>4.887</td>\n",
       "      <td>5.0</td>\n",
       "    </tr>\n",
       "    <tr>\n",
       "      <th>14</th>\n",
       "      <td>4706</td>\n",
       "      <td>1608198065</td>\n",
       "      <td>Roz Chast</td>\n",
       "      <td>2014.0</td>\n",
       "      <td>Can't We Talk about Something More Pleasant?</td>\n",
       "      <td>4.10</td>\n",
       "      <td>4.887</td>\n",
       "      <td>5.0</td>\n",
       "    </tr>\n",
       "  </tbody>\n",
       "</table>\n",
       "<p>150 rows × 8 columns</p>\n",
       "</div>"
      ],
      "text/plain": [
       "       id        isbn                                          authors  \\\n",
       "75   7852   842339655                                      R.C. Sproul   \n",
       "115  9076   402366174  The Church of Jesus Christ of Latter-day Saints   \n",
       "35   6527  163215711X                  Brian K. Vaughan, Fiona Staples   \n",
       "111  8978  1417642122                                   Bill Watterson   \n",
       "37   6590   751507954                                   Bill Watterson   \n",
       "..    ...         ...                                              ...   \n",
       "116  9110  1596434872                                   Steve Sheinkin   \n",
       "58   7327  1566562937                     Amin Maalouf, Russell Harris   \n",
       "114  9032  020161622X                         Andrew Hunt, Dave Thomas   \n",
       "98   8567  1421506289                      Tsugumi Ohba, Takeshi Obata   \n",
       "14   4706  1608198065                                        Roz Chast   \n",
       "\n",
       "       year                                              title  avg_rating  \\\n",
       "75   1984.0                                The Holiness of God        4.35   \n",
       "115  2004.0    Preach My Gospel: A Guide To Missionary Service        4.71   \n",
       "35   2016.0                            Saga, Vol. 6 (Saga, #6)        4.49   \n",
       "111  1991.0                        The Revenge of the Baby-Sat        4.71   \n",
       "37   1990.0  The Authoritative Calvin and Hobbes: A Calvin ...        4.73   \n",
       "..      ...                                                ...         ...   \n",
       "116  2012.0  Bomb: The Race to Buildâand Stealâthe Worl...        4.12   \n",
       "58   1988.0                                          Samarkand        4.20   \n",
       "114  1999.0  The Pragmatic Programmer: From Journeyman to M...        4.31   \n",
       "98   2005.0          Death Note, Vol. 7: Zero (Death Note, #7)        4.41   \n",
       "14   2014.0       Can't We Talk about Something More Pleasant?        4.10   \n",
       "\n",
       "     predicted_rating  predicted_rating_scaled  \n",
       "75              5.000                      5.0  \n",
       "115             5.000                      5.0  \n",
       "35              5.000                      5.0  \n",
       "111             5.000                      5.0  \n",
       "37              5.000                      5.0  \n",
       "..                ...                      ...  \n",
       "116             4.887                      5.0  \n",
       "58              4.887                      5.0  \n",
       "114             4.887                      5.0  \n",
       "98              4.887                      5.0  \n",
       "14              4.887                      5.0  \n",
       "\n",
       "[150 rows x 8 columns]"
      ]
     },
     "execution_count": 3,
     "metadata": {},
     "output_type": "execute_result"
    }
   ],
   "source": [
    "model.recommend(2500)"
   ]
  },
  {
   "cell_type": "markdown",
   "metadata": {},
   "source": [
    "### Visualizing the embeddings with sklearn\n",
    "\n",
    "As previously, I will now visualize the embeddings and embedding weights with sklearn"
   ]
  },
  {
   "cell_type": "code",
   "execution_count": 4,
   "metadata": {},
   "outputs": [
    {
     "data": {
      "text/plain": [
       "<matplotlib.axes._subplots.AxesSubplot at 0x1377d8750>"
      ]
     },
     "execution_count": 4,
     "metadata": {},
     "output_type": "execute_result"
    },
    {
     "data": {
      "image/png": "[encoded data removed]",
      "text/plain": [
       "<Figure size 432x288 with 1 Axes>"
      ]
     },
     "metadata": {
      "needs_background": "light"
     },
     "output_type": "display_data"
    }
   ],
   "source": [
    "# Extract embeddings\n",
    "book_embeddings = model.item_embedding\n",
    "book_emb_weights = model.item_embedding.weight.detach().numpy()\n",
    "#Visualizing Embedding weights\n",
    "from sklearn.decomposition import PCA\n",
    "import seaborn as sns\n",
    "pca = PCA(n_components=2)\n",
    "pca_result = pca.fit_transform(book_emb_weights)\n",
    "sns.scatterplot(x=pca_result[:,0], y=pca_result[:,1])"
   ]
  },
  {
   "cell_type": "markdown",
   "metadata": {},
   "source": [
    "Interestingly enough, the outliers stil exist, but with more weights apparent, they seem to be stil as much as in the other two models, while a good chunk of the weights is in the middle"
   ]
  },
  {
   "cell_type": "code",
   "execution_count": 5,
   "metadata": {},
   "outputs": [
    {
     "data": {
      "text/plain": [
       "1.0000001"
      ]
     },
     "execution_count": 5,
     "metadata": {},
     "output_type": "execute_result"
    }
   ],
   "source": [
    "book_emb_weights = book_emb_weights / np.linalg.norm(book_emb_weights, axis = 1).reshape((-1, 1))\n",
    "book_emb_weights[0][:10]\n",
    "np.sum(np.square(book_emb_weights[0]))"
   ]
  },
  {
   "cell_type": "code",
   "execution_count": 6,
   "metadata": {},
   "outputs": [
    {
     "data": {
      "text/plain": [
       "<matplotlib.axes._subplots.AxesSubplot at 0x13870b8d0>"
      ]
     },
     "execution_count": 6,
     "metadata": {},
     "output_type": "execute_result"
    },
    {
     "data": {
      "image/png": "[encoded data removed]",
      "text/plain": [
       "<Figure size 432x288 with 1 Axes>"
      ]
     },
     "metadata": {
      "needs_background": "light"
     },
     "output_type": "display_data"
    }
   ],
   "source": [
    "pca = PCA(n_components=2)\n",
    "pca_result = pca.fit_transform(book_emb_weights)\n",
    "sns.scatterplot(x=pca_result[:,0], y=pca_result[:,1])"
   ]
  },
  {
   "cell_type": "markdown",
   "metadata": {},
   "source": [
    "## Evaluation of the System\n",
    "In the following section, I will evaluate the results generated by the Neural Recommender on the test dataset. First, we will analyze the regression loss, which will give us a floating point value for how much we are off on average for our predicted ratings, but before that I will, as done for the other two models, print out a short summary of the predictions"
   ]
  },
  {
   "cell_type": "code",
   "execution_count": 8,
   "metadata": {},
   "outputs": [
    {
     "name": "stdout",
     "output_type": "stream",
     "text": [
      "              precision    recall  f1-score   support\n",
      "\n",
      "           1       0.00      0.00      0.00      1792\n",
      "           2       0.07      0.02      0.03      6259\n",
      "           3       0.25      0.40      0.31     24420\n",
      "           4       0.37      0.52      0.43     36094\n",
      "           5       0.29      0.06      0.10     29811\n",
      "\n",
      "   micro avg       0.31      0.31      0.31     98376\n",
      "   macro avg       0.19      0.20      0.17     98376\n",
      "weighted avg       0.29      0.31      0.27     98376\n",
      "\n"
     ]
    }
   ],
   "source": [
    "import sklearn\n",
    "from sklearn.metrics import classification_report\n",
    "true_ratings = test_ratings.rating\n",
    "print(sklearn.metrics.classification_report(true_ratings, test_predictions, labels=[1, 2, 3, 4, 5], zero_division=0))"
   ]
  },
  {
   "cell_type": "code",
   "execution_count": 9,
   "metadata": {},
   "outputs": [
    {
     "name": "stdout",
     "output_type": "stream",
     "text": [
      "Total count of rating class 1 predicted: 0\n",
      "Total count of rating class 2 predicted: 1549\n",
      "Total count of rating class 3 predicted: 39652\n",
      "Total count of rating class 4 predicted: 50683\n",
      "Total count of rating class 5 predicted: 6455\n"
     ]
    }
   ],
   "source": [
    "# counting the total amount of predicted labels on the test data\n",
    "r1_count = test_predictions.count(1)\n",
    "r2_count = test_predictions.count(2)\n",
    "r3_count = test_predictions.count(3)\n",
    "r4_count = test_predictions.count(4)\n",
    "r5_count = test_predictions.count(5)\n",
    "\n",
    "print(\"Total count of rating class 1 predicted: {}\".format(r1_count))\n",
    "print(\"Total count of rating class 2 predicted: {}\".format(r2_count))\n",
    "print(\"Total count of rating class 3 predicted: {}\".format(r3_count))\n",
    "print(\"Total count of rating class 4 predicted: {}\".format(r4_count))\n",
    "print(\"Total count of rating class 5 predicted: {}\".format(r5_count))"
   ]
  },
  {
   "cell_type": "code",
   "execution_count": 10,
   "metadata": {},
   "outputs": [
    {
     "data": {
      "image/png": "[encoded data removed]",
      "text/plain": [
       "<Figure size 432x288 with 1 Axes>"
      ]
     },
     "metadata": {
      "needs_background": "light"
     },
     "output_type": "display_data"
    }
   ],
   "source": [
    "import matplotlib.pyplot as plt\n",
    "fig = plt.figure()\n",
    "ax = fig.add_axes([0,0,1,1])\n",
    "ymax = len(test_ratings.rating)\n",
    "ymin = 0\n",
    "ax.set_ylim([ymin,ymax])\n",
    "ratings = ['rating=5', 'rating=4', 'rating=3', 'rating=2', 'rating=1']\n",
    "counts = [r5_count, r4_count, r3_count, r2_count, r1_count]\n",
    "ax.bar(ratings,counts)\n",
    "plt.show()"
   ]
  },
  {
   "cell_type": "code",
   "execution_count": 11,
   "metadata": {},
   "outputs": [
    {
     "name": "stdout",
     "output_type": "stream",
     "text": [
      "The regression loss for the Neural Recommender on the test data is: 0.9159957713263398\n"
     ]
    }
   ],
   "source": [
    "regression_loss_nn = regression_loss(test_predictions)\n",
    "print(\"The regression loss for the Neural Recommender on the test data is: {}\".format(regression_loss_nn))"
   ]
  },
  {
   "cell_type": "markdown",
   "metadata": {},
   "source": [
    "So, on average, the system is about 0.91 off when predicting the ratings for the users and items on the test data, which is a vast improvement over the regression loss of the other two models. There is still room for improvement and adjustment, however, but the model generally does a better job at preventing overfitting."
   ]
  },
  {
   "cell_type": "markdown",
   "metadata": {},
   "source": [
    "Next, we will take a closer look at how much the ratings are actually off from their actual values:"
   ]
  },
  {
   "cell_type": "code",
   "execution_count": 13,
   "metadata": {},
   "outputs": [
    {
     "name": "stdout",
     "output_type": "stream",
     "text": [
      "Total amount of correctly predicted ratings: 30446\n",
      "Total amount of incorrectly predicted ratings: 67930\n",
      "Accuracy of the model in percent: 30.95%\n",
      "Predictions off by one: 47805\n",
      "Percentage of ratings off by one out of all the test data: 48.59%\n",
      "Percentage of ratings off by one out of incorrectly predicted ratings: 70.37%\n"
     ]
    }
   ],
   "source": [
    "#First, we will analyze how many ratings are off by one\n",
    "class_loss = classification_loss(test_predictions, diff=1)\n",
    "print(\"Total amount of correctly predicted ratings: {}\".format(len(test_ratings.rating) - class_loss[0]))\n",
    "print(\"Total amount of incorrectly predicted ratings: {}\".format(class_loss[0]))\n",
    "print(\"Accuracy of the model in percent: {:.2f}%\".format(class_loss[1]))\n",
    "print(\"Predictions off by one: {}\".format(class_loss[2]))\n",
    "print(\"Percentage of ratings off by one out of all the test data: {:.2f}%\".format(class_loss[3]*100))\n",
    "print(\"Percentage of ratings off by one out of incorrectly predicted ratings: {:.2f}%\".format(class_loss[4]*100))"
   ]
  },
  {
   "cell_type": "markdown",
   "metadata": {},
   "source": [
    "The notion that the neural model does seem to make a better job at preventing overfitting is underlined by these values. The total accuracy of the dataset is roughly 31% which is clear improvement over both the previous models, an the ratings that are off only by one rating are also significantly better, meaning that even in the case that the model failed to predict the true rating, it still managed to not mess it up completely."
   ]
  },
  {
   "cell_type": "code",
   "execution_count": 14,
   "metadata": {},
   "outputs": [
    {
     "name": "stdout",
     "output_type": "stream",
     "text": [
      "Predictions off by two: 18173\n",
      "Percentage of ratings off by two out of all the test data: 18.47%\n",
      "Percentage of ratings off by two out of incorrectly predicted ratings: 26.75%\n"
     ]
    }
   ],
   "source": [
    "# Now we analyze the ratings off by two\n",
    "class_loss_two = classification_loss(test_predictions, diff=2)\n",
    "print(\"Predictions off by two: {}\".format(class_loss_two[2]))\n",
    "print(\"Percentage of ratings off by two out of all the test data: {:.2f}%\".format(class_loss_two[3]*100))\n",
    "print(\"Percentage of ratings off by two out of incorrectly predicted ratings: {:.2f}%\".format(class_loss_two[4]*100))"
   ]
  },
  {
   "cell_type": "code",
   "execution_count": 18,
   "metadata": {},
   "outputs": [
    {
     "name": "stdout",
     "output_type": "stream",
     "text": [
      "Predictions off by three: 1849\n",
      "Percentage of ratings off by three out of all the test data: 1.88%\n",
      "Percentage of ratings off by three out of incorrectly predicted ratings: 2.72%\n"
     ]
    }
   ],
   "source": [
    "# Ratings off by three\n",
    "class_loss_three = classification_loss(test_predictions, diff=3)\n",
    "print(\"Predictions off by three: {}\".format(class_loss_three[2]))\n",
    "print(\"Percentage of ratings off by three out of all the test data: {:.2f}%\".format(class_loss_three[3]*100))\n",
    "print(\"Percentage of ratings off by three out of incorrectly predicted ratings: {:.2f}%\".format(class_loss_three[4]*100))"
   ]
  },
  {
   "cell_type": "code",
   "execution_count": 19,
   "metadata": {},
   "outputs": [
    {
     "name": "stdout",
     "output_type": "stream",
     "text": [
      "Predictions off by four: 101\n",
      "Percentage of ratings off by four out of all the test data: 0.10%\n",
      "Percentage of ratings off by four out of incorrectly predicted ratings: 0.15%\n"
     ]
    }
   ],
   "source": [
    "# Ratings off by four \n",
    "class_loss_four = classification_loss(test_predictions, diff=4)\n",
    "print(\"Predictions off by four: {}\".format(class_loss_four[2]))\n",
    "print(\"Percentage of ratings off by four out of all the test data: {:.2f}%\".format(class_loss_four[3]*100))\n",
    "print(\"Percentage of ratings off by four out of incorrectly predicted ratings: {:.2f}%\".format(class_loss_four[4]*100))"
   ]
  },
  {
   "cell_type": "code",
   "execution_count": 20,
   "metadata": {},
   "outputs": [
    {
     "data": {
      "image/png": "[encoded data removed]",
      "text/plain": [
       "<Figure size 432x288 with 1 Axes>"
      ]
     },
     "metadata": {
      "needs_background": "light"
     },
     "output_type": "display_data"
    }
   ],
   "source": [
    "# Plotting the data to show difference between correctly and incorrectly predicted ratings\n",
    "fig1 = plt.figure()\n",
    "ax1 = fig1.add_axes([0,0,1,1])\n",
    "ymax = len(test_ratings.rating)\n",
    "ymin = 0\n",
    "ax1.set_ylim([ymin,ymax])\n",
    "correct = ymax - class_loss[0]\n",
    "offs = ['correctly predicted', 'incorrectly predicted']\n",
    "counts = [correct, class_loss[0]]\n",
    "ax1.bar(offs,counts)\n",
    "plt.show()"
   ]
  },
  {
   "cell_type": "code",
   "execution_count": 21,
   "metadata": {},
   "outputs": [
    {
     "data": {
      "image/png": "[encoded data removed]",
      "text/plain": [
       "<Figure size 432x288 with 1 Axes>"
      ]
     },
     "metadata": {
      "needs_background": "light"
     },
     "output_type": "display_data"
    }
   ],
   "source": [
    "# Plotting the amount of ratings that were off by 1, 2, 3, 4 respectively out of all incorrectly predicted ratings\n",
    "fig2 = plt.figure()\n",
    "ax2 = fig2.add_axes([0,0,1,1])\n",
    "ymax = class_loss[0]\n",
    "ymin = 0\n",
    "ax2.set_ylim([ymin,ymax])\n",
    "offs = ['off by one', 'off by two', 'off by three', 'off by four']\n",
    "counts = [class_loss[2],class_loss_two[2], class_loss_three[2], class_loss_four[2]]\n",
    "ax2.bar(offs,counts)\n",
    "plt.show()"
   ]
  },
  {
   "cell_type": "code",
   "execution_count": 25,
   "metadata": {},
   "outputs": [
    {
     "name": "stdout",
     "output_type": "stream",
     "text": [
      "Recall for rating 5: 6.327%\n",
      "Recall for rating 4: 51.546%\n",
      "Recall for rating 3: 40.352%\n",
      "Recall for rating 2: 1.614%\n",
      "Recall for rating 1: 0.000%\n",
      "Total macro averaged recall: 19.968%\n"
     ]
    }
   ],
   "source": [
    "# Recalls \n",
    "recall_five = recall_per(test_predictions, 5)\n",
    "recall_four = recall_per(test_predictions, 4)\n",
    "recall_three = recall_per(test_predictions, 3)\n",
    "recall_two = recall_per(test_predictions, 2)\n",
    "recall_one = recall_per(test_predictions, 1)\n",
    "recall_total = recall_macro_avg(test_predictions)\n",
    "\n",
    "print(\"Recall for rating 5: {:.3f}%\".format(recall_five*100))\n",
    "print(\"Recall for rating 4: {:.3f}%\".format(recall_four*100))\n",
    "print(\"Recall for rating 3: {:.3f}%\".format(recall_three*100))\n",
    "print(\"Recall for rating 2: {:.3f}%\".format(recall_two*100))\n",
    "print(\"Recall for rating 1: {:.3f}%\".format(recall_one*100))\n",
    "print(\"Total macro averaged recall: {:.3f}%\".format(recall_total*100))"
   ]
  },
  {
   "cell_type": "code",
   "execution_count": 27,
   "metadata": {},
   "outputs": [
    {
     "data": {
      "image/png": "[encoded data removed]",
      "text/plain": [
       "<Figure size 432x288 with 1 Axes>"
      ]
     },
     "metadata": {
      "needs_background": "light"
     },
     "output_type": "display_data"
    }
   ],
   "source": [
    "# Plotting the recall\n",
    "fig3 = plt.figure()\n",
    "ax3 = fig3.add_axes([0,0,1,1])\n",
    "ticks = [10,20,30,40,50,60, 70, 80, 90, 100]\n",
    "ax3.set_yticks(ticks)\n",
    "ymax = 100\n",
    "ymin = 0\n",
    "ax3.set_ylim([ymin,ymax])\n",
    "ratings = ['rating=5', 'rating=4', 'rating=3', 'rating=2', 'rating=1']\n",
    "counts = [recall_five*100, recall_four*100, recall_three*100, recall_two*100, recall_one*100]\n",
    "ax3.bar(ratings,counts)\n",
    "plt.show()"
   ]
  },
  {
   "cell_type": "markdown",
   "metadata": {},
   "source": [
    "As it's visible from the data of the recall metric, the system wasn't quite able to succesfully predict the corresponding ground truths from the test data. While the recall for rating class 4 and 3 still seem somewhat acceptable, the recall for the other 3 rating classes, especially class 1 with a value of 0, are very small, which indicated that the system struggled greatly with correctly predicting these ratings. It is worth noting that especially the lower rating classes of 1 and 2 were problematic for the system. One might think about different reasons as to why the system failed here so much, one potential reason could be that they are relatively rare among the rating column of the test ratings. In order to verify this, I will analyze the rating column of the test data:"
   ]
  },
  {
   "cell_type": "code",
   "execution_count": 28,
   "metadata": {},
   "outputs": [
    {
     "data": {
      "text/plain": [
       "4    36094\n",
       "5    29811\n",
       "3    24420\n",
       "2     6259\n",
       "1     1792\n",
       "Name: rating, dtype: int64"
      ]
     },
     "execution_count": 28,
     "metadata": {},
     "output_type": "execute_result"
    }
   ],
   "source": [
    "test_ratings.rating.value_counts()"
   ]
  },
  {
   "cell_type": "markdown",
   "metadata": {},
   "source": [
    "As it can be seen, the rating classes 1 and 2 are indeed relatively rare compared to the other rating classes of the test dataset. As a consequence, the system might have seen to few instances of these rating classes in order to properly learn and predict them.<br>\n",
    "Now I will analyze the **precision** for each rating class and the macro averaged precision: "
   ]
  },
  {
   "cell_type": "code",
   "execution_count": 30,
   "metadata": {},
   "outputs": [
    {
     "name": "stdout",
     "output_type": "stream",
     "text": [
      "Rating 1 wasn't predicted\n",
      "Rating 1 wasn't predicted\n",
      "Precision for rating 5: 29.218%\n",
      "Precision for rating 4: 36.709%\n",
      "Precision for rating 3: 24.851%\n",
      "Precision for rating 2: 6.520%\n",
      "Precision for rating 1: 0.000%\n",
      "Total macro averaged precision: 19.460%\n"
     ]
    }
   ],
   "source": [
    "##Analyzing precisions\n",
    "precision_five = precision_per(test_predictions, 5)\n",
    "precision_four = precision_per(test_predictions, 4)\n",
    "precision_three = precision_per(test_predictions, 3)\n",
    "precision_two = precision_per(test_predictions, 2)\n",
    "precision_one = precision_per(test_predictions, 1)\n",
    "precision_total = precision_macro_avg(test_predictions)\n",
    "\n",
    "print(\"Precision for rating 5: {:.3f}%\".format(precision_five*100))\n",
    "print(\"Precision for rating 4: {:.3f}%\".format(precision_four*100))\n",
    "print(\"Precision for rating 3: {:.3f}%\".format(precision_three*100))\n",
    "print(\"Precision for rating 2: {:.3f}%\".format(precision_two*100))\n",
    "print(\"Precision for rating 1: {:.3f}%\".format(precision_one*100))\n",
    "print(\"Total macro averaged precision: {:.3f}%\".format(precision_total*100))"
   ]
  },
  {
   "cell_type": "code",
   "execution_count": 31,
   "metadata": {},
   "outputs": [
    {
     "data": {
      "image/png": "[encoded data removed]",
      "text/plain": [
       "<Figure size 432x288 with 1 Axes>"
      ]
     },
     "metadata": {
      "needs_background": "light"
     },
     "output_type": "display_data"
    }
   ],
   "source": [
    "##Plotting precisions\n",
    "# Plotting the recall\n",
    "fig4 = plt.figure()\n",
    "ax4 = fig4.add_axes([0,0,1,1])\n",
    "ax4.set_yticks(ticks)\n",
    "ymax = 100\n",
    "ymin = 0\n",
    "ax4.set_ylim([ymin,ymax])\n",
    "ratings = ['rating=5', 'rating=4', 'rating=3', 'rating=2', 'rating=1']\n",
    "counts = [precision_five*100, precision_four*100, precision_three*100, precision_two*100, precision_one*100]\n",
    "ax4.bar(ratings,counts)\n",
    "plt.show()"
   ]
  },
  {
   "cell_type": "markdown",
   "metadata": {},
   "source": [
    "As it can be seen from both precision and recall measures, rating class 4 provided the best results from the system on the test data, because it's the most frequent rating among the ratings of the test dataset. Unlike recall, the precision for rating class 5 provides better results, while the precision for rating class 3 ranks slightly below. Again, due to their insignificantly rare occurences in the test data ratings, one and 2 provide dismal results, which ultimately effects the total precision so much that an exception handling for *ZeroDivisionError* was necessary because of the precision of 0 for rating 1.<br>\n",
    "Analyzing the f-measure for each rating and in total:"
   ]
  },
  {
   "cell_type": "code",
   "execution_count": 32,
   "metadata": {},
   "outputs": [
    {
     "name": "stdout",
     "output_type": "stream",
     "text": [
      "F1-measure for rating class 5: 11.000%\n",
      "F1-measure for rating class 4: 43.000%\n",
      "F1-measure for rating class 3: 31.000%\n",
      "F1-measure for rating class 2: 2.000%\n",
      "F1-measure total for the test set macro-averaged: 14.438%\n",
      "Weighted F1-measure for the test set 26.684%\n",
      "Weighted F1-measure for the test set micro-averaged: 30.949%\n"
     ]
    }
   ],
   "source": [
    "# I had to use sk-learns f1 score function here since apparently I had a bug in my code in the metrics file\n",
    "# f-measure, the data can be seen at the bottom of the notbook in the summary \n",
    "import sklearn\n",
    "from sklearn.metrics import f1_score\n",
    "\n",
    "\n",
    "f_five =  0.11\n",
    "f_four = 0.43\n",
    "f_three = 0.31\n",
    "f_two = 0.02\n",
    "f_one = 0.00 #f_measure_per function will cause a ZeroDivisionError\n",
    "# because of this, I will add up the percentages and divide them  by the number of output (i.e. rating) classes\n",
    "f_total = f1_score(test_ratings.rating, test_predictions, average='macro')\n",
    "f1_total_weighted = f1_score(test_ratings.rating, test_predictions, average='weighted')\n",
    "f1_total_micro = f1_score(test_ratings.rating, test_predictions, average='micro')\n",
    "\n",
    "\n",
    "print(\"F1-measure for rating class 5: {:.3f}%\".format(f_five*100))\n",
    "print(\"F1-measure for rating class 4: {:.3f}%\".format(f_four*100))\n",
    "print(\"F1-measure for rating class 3: {:.3f}%\".format(f_three*100))\n",
    "print(\"F1-measure for rating class 2: {:.3f}%\".format(f_two*100))\n",
    "print(\"F1-measure total for the test set macro-averaged: {:.3f}%\".format(f_total*100))\n",
    "print(\"Weighted F1-measure for the test set {:.3f}%\".format(f1_total_weighted*100))\n",
    "print(\"Weighted F1-measure for the test set micro-averaged: {:.3f}%\".format(f1_total_micro*100))"
   ]
  },
  {
   "cell_type": "code",
   "execution_count": 33,
   "metadata": {},
   "outputs": [
    {
     "data": {
      "image/png": "[encoded data removed]",
      "text/plain": [
       "<Figure size 432x288 with 1 Axes>"
      ]
     },
     "metadata": {
      "needs_background": "light"
     },
     "output_type": "display_data"
    }
   ],
   "source": [
    "# Plotting the f-measures\n",
    "\n",
    "fig5 = plt.figure()\n",
    "ax5 = fig5.add_axes([0,0,1,1])\n",
    "ax5.set_yticks(ticks)\n",
    "ymax = 100\n",
    "ymin = 0\n",
    "ax5.set_ylim([ymin,ymax])\n",
    "ratings = ['rating=5', 'rating=4', 'rating=3', 'rating=2', 'rating=1']\n",
    "counts = [f_five*100, f_four*100, f_three*100, f_two*100, 0]\n",
    "ax5.bar(ratings,counts)\n",
    "plt.show()"
   ]
  },
  {
   "cell_type": "markdown",
   "metadata": {},
   "source": [
    "Unsurprisingly, the f-measure for rating equals to zero since both its precision and recall were 0, while the f-measure for rating 4 is the highest, with 5 and 3 following each other closely. This further proves that a recommender system needs plenty of observations for each output class in order to predict them correctly, as rating class seems to be an output class with which the system has struggled greatly due to its lack of occurence on the test data.<br>\n",
    "Lastly, I will analyze the accuracy for each rating class"
   ]
  },
  {
   "cell_type": "markdown",
   "metadata": {},
   "source": [
    "## Conclusion\n",
    "Neural Recommenders provide Neural Networks architecture and NN frameworks for building recommender systems and thus provide a Machine Learning tool for recommender systems and recommending items to users. Unsurprisingly, Neural Network models surpass simpler yet still somewhat effective Matrix Factorization models, and with even greater CPU performance and more epochs, this model could be further improved. One significant advantage of the NN architecture is that it doesn't require the user to normalize the ratings and provides already normalized ratings, which saves a lot of computation. Since this model is based on explicit Collaborative Filtering and thus relies on the data and especially the occurence of certain classes (which can be a problem as evidenced by rating class 1), it would be interesting to see how well Neural Network architecture based recommender systems perform with the method of **item-based filtering**, which takes into account things such as *viewing time, search pattern, clicking pattern* etc, as I can imagine that a Neural Network, with the technical tools to perform such observations, could learn these factors very efficiently and provide accurate recommendations and ratings accordingly. The last thing is to note that while this result may seem unsatisfying, it is still worth noting that this model can further be improved, extended, adjusted, and given more time and potentially even GPU power to learn and train better on trainings dataset and thus perform better on unseen data. Neural Networks provide for a great opportunity in experimentally handling the task of user recommendations. One last thing to note is that all three models suffer from the very nature of Collaborative filtering, in that they tend to recommend the most popular items on a given platform. While this fulfills the task of Collaborative filtering, it actually might not fulfill the expectations of some users whose tastes go against the mainstream."
   ]
  }
 ],
 "metadata": {
  "kernelspec": {
   "display_name": "Python 3",
   "language": "python",
   "name": "python3"
  },
  "language_info": {
   "codemirror_mode": {
    "name": "ipython",
    "version": 3
   },
   "file_extension": ".py",
   "mimetype": "text/x-python",
   "name": "python",
   "nbconvert_exporter": "python",
   "pygments_lexer": "ipython3",
   "version": "3.7.7"
  }
 },
 "nbformat": 4,
 "nbformat_minor": 4
}
