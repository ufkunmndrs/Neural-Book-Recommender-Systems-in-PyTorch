{
 "cells": [
  {
   "cell_type": "markdown",
   "metadata": {},
   "source": [
    "# Matrix Factorization\n",
    "Matrix Factorization is based on the simple idea that user and item interactions are measured by how their **embeddings** interact with each other. This interaction manifests itself in the multiplication of these embeddings, which, since we're talking about vector embeddings, leads to the **dot product** as simple mathematical operation as the main base of this approach."
   ]
  },
  {
   "cell_type": "code",
   "execution_count": 1,
   "metadata": {},
   "outputs": [
    {
     "name": "stdout",
     "output_type": "stream",
     "text": [
      "Number of users: 53424, Number of books: 10000, Min rating: 1, Max rating: 5\n",
      "Epoch:0, Loss:15.359225273132324\n",
      "Epoch:1, Loss:14.908473014831543\n",
      "Epoch:2, Loss:14.321557998657227\n",
      "Epoch:3, Loss:13.606728553771973\n",
      "Epoch:4, Loss:12.77322006225586\n",
      "Epoch:5, Loss:11.832107543945312\n",
      "Epoch:6, Loss:10.797161102294922\n",
      "Epoch:7, Loss:9.685442924499512\n",
      "Epoch:8, Loss:8.517854690551758\n",
      "Epoch:9, Loss:7.319581985473633\n",
      "Epoch:10, Loss:6.1204962730407715\n",
      "Epoch:11, Loss:4.955141067504883\n",
      "Epoch:12, Loss:3.862467050552368\n",
      "Epoch:13, Loss:2.8847076892852783\n",
      "Epoch:14, Loss:2.064992666244507\n",
      "Epoch:15, Loss:1.442834734916687\n",
      "Epoch:16, Loss:1.046865701675415\n",
      "Epoch:17, Loss:0.8849510550498962\n",
      "Epoch:18, Loss:0.9343993067741394\n",
      "Epoch:19, Loss:1.1382067203521729\n",
      "Epoch:20, Loss:1.4135740995407104\n",
      "Epoch:21, Loss:1.6727217435836792\n",
      "Epoch:22, Loss:1.846577763557434\n",
      "Epoch:23, Loss:1.899783968925476\n",
      "Epoch:24, Loss:1.8320664167404175\n",
      "Epoch:25, Loss:1.6693273782730103\n",
      "Epoch:26, Loss:1.4509927034378052\n",
      "Epoch:27, Loss:1.218353509902954\n",
      "Epoch:28, Loss:1.0062919855117798\n",
      "Epoch:29, Loss:0.8386957049369812\n",
      "Epoch:30, Loss:0.727145791053772\n",
      "Epoch:31, Loss:0.6720671057701111\n",
      "Epoch:32, Loss:0.6654191613197327\n",
      "Epoch:33, Loss:0.6940376162528992\n",
      "Epoch:34, Loss:0.7428629398345947\n",
      "Epoch:35, Loss:0.7975642085075378\n",
      "Epoch:36, Loss:0.8463096618652344\n",
      "Epoch:37, Loss:0.8807211518287659\n",
      "Epoch:38, Loss:0.8961385488510132\n",
      "Epoch:39, Loss:0.8913975358009338\n",
      "Epoch:40, Loss:0.8683016300201416\n",
      "Epoch:41, Loss:0.8309071660041809\n",
      "Epoch:42, Loss:0.7847163677215576\n",
      "Epoch:43, Loss:0.7358303070068359\n",
      "Epoch:44, Loss:0.6901190280914307\n",
      "Epoch:45, Loss:0.6524577140808105\n",
      "Epoch:46, Loss:0.6261121034622192\n",
      "Epoch:47, Loss:0.6123518943786621\n",
      "Epoch:48, Loss:0.6103849411010742\n",
      "Epoch:49, Loss:0.6176285743713379\n",
      "Epoch:50, Loss:0.6303070187568665\n",
      "Epoch:51, Loss:0.6442555785179138\n",
      "Epoch:52, Loss:0.6557551622390747\n",
      "Epoch:53, Loss:0.6622016429901123\n",
      "Epoch:54, Loss:0.6624741554260254\n",
      "Epoch:55, Loss:0.656931459903717\n",
      "Epoch:56, Loss:0.6470924615859985\n",
      "Epoch:57, Loss:0.6351185441017151\n",
      "Epoch:58, Loss:0.6232504844665527\n",
      "Epoch:59, Loss:0.6133295297622681\n",
      "Epoch:60, Loss:0.6065042018890381\n",
      "Epoch:61, Loss:0.6031250953674316\n",
      "Epoch:62, Loss:0.6028324961662292\n",
      "Epoch:63, Loss:0.6047585010528564\n",
      "Epoch:64, Loss:0.6077978610992432\n",
      "Epoch:65, Loss:0.6108536124229431\n",
      "Epoch:66, Loss:0.6130521893501282\n",
      "Epoch:67, Loss:0.6138623952865601\n",
      "Epoch:68, Loss:0.613135039806366\n",
      "Epoch:69, Loss:0.6110660433769226\n",
      "Epoch:70, Loss:0.6080981492996216\n",
      "Epoch:71, Loss:0.6047940254211426\n",
      "Epoch:72, Loss:0.6017102003097534\n",
      "Epoch:73, Loss:0.5992735028266907\n",
      "Epoch:74, Loss:0.5977240800857544\n",
      "Epoch:75, Loss:0.5970838665962219\n",
      "Epoch:76, Loss:0.5971817374229431\n",
      "Epoch:77, Loss:0.5977243781089783\n",
      "Epoch:78, Loss:0.5983700752258301\n",
      "Epoch:79, Loss:0.5988152623176575\n",
      "Epoch:80, Loss:0.5988580584526062\n",
      "Epoch:81, Loss:0.5984222888946533\n",
      "Epoch:82, Loss:0.5975587964057922\n",
      "Epoch:83, Loss:0.5964072942733765\n",
      "Epoch:84, Loss:0.5951524376869202\n",
      "Epoch:85, Loss:0.5939702987670898\n",
      "Epoch:86, Loss:0.5929891467094421\n",
      "Epoch:87, Loss:0.5922684669494629\n",
      "Epoch:88, Loss:0.5917940735816956\n",
      "Epoch:89, Loss:0.5914977192878723\n",
      "Epoch:90, Loss:0.5912797451019287\n",
      "Epoch:91, Loss:0.5910379886627197\n",
      "Epoch:92, Loss:0.5906916260719299\n",
      "Epoch:93, Loss:0.5901954770088196\n",
      "Epoch:94, Loss:0.5895461440086365\n",
      "Epoch:95, Loss:0.5887709856033325\n",
      "Epoch:96, Loss:0.5879213809967041\n",
      "Epoch:97, Loss:0.5870513916015625\n",
      "Epoch:98, Loss:0.5862086415290833\n",
      "Epoch:99, Loss:0.5854185223579407\n",
      "test loss 0.720 \n"
     ]
    }
   ],
   "source": [
    "#!/usr/bin/env python3\n",
    "# -*- coding: utf-8 -*-\n",
    "\"\"\"\n",
    "Created on Sun Oct 03 04:06:36 2020\n",
    "\n",
    "@author: Ufkun-Bayram Menderes\n",
    "\n",
    "This Python Module contains the implementation of Recommender Systems for the \n",
    "goodbooks10k dataset based on Matrix Factorization.\n",
    "Training for model is provided via train.py modul\n",
    "The Model is implemented in PyTorch.\n",
    "\"\"\"\n",
    "import torch\n",
    "import torch.nn as nn\n",
    "import torch.nn.functional as F\n",
    "import torch.optim as optim\n",
    "import numpy as np\n",
    "from load_goodbooks_ds import *\n",
    "from encode_books import proc_col, encode_data\n",
    "from train import train_epochs, test_loss\n",
    "import pandas as pd\n",
    "from metrics import *\n",
    "\n",
    "###############################################################################\n",
    "# 1st part: Loading the goodbooks dataset from the load_goodbooks_ds.py file\n",
    "# In that file, the dataset is alredy split up into training, validation and test\n",
    "# sets\n",
    "##############################################################################\n",
    "\n",
    "\n",
    "# number of users for embeddings = 53424\n",
    "num_users = train_ratings.user_id.nunique()\n",
    "# number of books = 10000\n",
    "num_items = train_ratings.book_id.nunique()\n",
    "# determine min and max ratings\n",
    "min_rating = min(ratings[\"rating\"])\n",
    "max_rating = max(ratings[\"rating\"])\n",
    "second_highest = max_rating - 1\n",
    "\n",
    "min_user_id = min(ratings[\"user_id\"])\n",
    "max_user_id = max(ratings[\"user_id\"])\n",
    "\n",
    "print(\"Number of users: {}, Number of books: {}, Min rating: {}, Max rating: {}\"\n",
    "      .format(num_users_total, num_items, min_rating, max_rating))\n",
    "\n",
    "###############################################################################\n",
    "# In this part, we will create a Matrix Factorization model with PyTorch \n",
    "# with corresponding item and user embeddings.\n",
    "###############################################################################\n",
    "\n",
    "\n",
    "class MF(nn.Module):\n",
    "    def __init__(self, num_users, num_items, emb_size=100):\n",
    "        \"\"\"\n",
    "        Matrix Factorization class which embeds both users and items \n",
    "        into nn.Embeddings according to chosen embedding size\n",
    "\n",
    "        Parameters\n",
    "        ----------\n",
    "        num_users : int\n",
    "            number of users of a given dataset\n",
    "        num_items : int\n",
    "            number of items of a given dataset\n",
    "        emb_size : int, optional\n",
    "            size of each emebedding. The default is 100.\n",
    "\n",
    "        Returns\n",
    "        -------\n",
    "        MF object\n",
    "\n",
    "        \"\"\"\n",
    "        super(MF, self).__init__()\n",
    "        self.user_embedding = nn.Embedding(num_users, emb_size)\n",
    "        self.item_embedding = nn.Embedding(num_items, emb_size)\n",
    "        self.user_embedding.weight.data.uniform_(0, 0.05)\n",
    "        self.item_embedding.weight.data.uniform_(0, 0.05)\n",
    "    \n",
    "    def forward(self, user, item):\n",
    "        \"\"\"\n",
    "        Performs computations of Matrix Factorization for users and books\n",
    "        \n",
    "\n",
    "        Parameters\n",
    "        ----------\n",
    "        user_vec : nn.Embedding\n",
    "            Embedding layer of users and user_id's\n",
    "        item_vec : nn.Embedding\n",
    "            Embedding layer of items and item_id's\n",
    "\n",
    "        Returns\n",
    "        -------\n",
    "        TYPE : torch.tensor \n",
    "        PyTorch tensor containing output of forward pass\n",
    "\n",
    "\n",
    "        \"\"\"\n",
    "        user_vec = self.user_embedding(user)\n",
    "        item_vec = self.item_embedding(item)\n",
    "        return (user_vec*item_vec).sum(1)\n",
    "    \n",
    "    def recommend(self, user_id, n=150, r=3):\n",
    "        \"\"\"\n",
    "        Recommends n top items to a user \n",
    "\n",
    "        Parameters\n",
    "        ----------\n",
    "        user_id : int\n",
    "            integer representation of a user, will be converted to a torch.Tensor\n",
    "        n : int, optional\n",
    "            number of top recommendations which we will return.\n",
    "            The default is 10.\n",
    "        \n",
    "        r : int, optional\n",
    "            Decimal places to which predicted rating shall be rounded up to\n",
    "\n",
    "        Returns\n",
    "        -------\n",
    "        recommendations : list\n",
    "            list top n recommendations with predicted ratings\n",
    "\n",
    "        \"\"\"\n",
    "        if user_id > max_user_id or user_id < min_user_id:\n",
    "            raise ValueError(\"Invalid user ID\")\n",
    "        books = load_books()\n",
    "        user = torch.tensor([user_id])\n",
    "        books_recommend = torch.tensor(ratings.book_id.unique().tolist()) - 1\n",
    "        predictions = model(user, books_recommend).tolist()\n",
    "        # normalize the ratings according to given rating scale\n",
    "        predictions = [i/max(predictions)*ratings.rating.max() for i in predictions]\n",
    "        # zip the book_ids and corresponding rating prediction to a list of \n",
    "        # (rating, id) tuples\n",
    "        book_ids = ratings.book_id.unique()\n",
    "        predictions = list(zip(predictions, book_ids))\n",
    "        # get the books which the user has alread read\n",
    "        user_books_read = ratings[ratings.user_id == user]\n",
    "        # make a list out of the book_id's that user has alread read\n",
    "        read_list = list(user_books_read.book_id)\n",
    "        # make an empty list for unread books, fill it with book_ids\n",
    "        # of books that user has not rated/read yet\n",
    "        unread_books = []\n",
    "        for book in predictions:\n",
    "            if book[1] not in read_list:\n",
    "                unread_books.append(book)\n",
    "        # sort the elements according to their rating, top ratings at top\n",
    "        unread_books = sorted(unread_books, key=lambda book_tuple: book_tuple[0],\n",
    "                              reverse=True)\n",
    "        # indice the list on desired top n elements\n",
    "        top_n_books = unread_books[:n]\n",
    "        # get book_ids of top n elements\n",
    "        top_n_book_ids = [books[1] for books in top_n_books]\n",
    "        # get the full book information of these books from books.csv dataset\n",
    "        recommended_books = books[books[\"id\"].isin(top_n_book_ids)]\n",
    "        # make dict out of top_n_books, keys=ratings, values=ids\n",
    "        book_rating_dict = dict(top_n_books)\n",
    "        # reverse keys and values s.t. ids are keys, ratings are values\n",
    "        book_rating_dict = {value:key for key, value in book_rating_dict.items()}\n",
    "        # make tuples out key, value elements, save them in the new list\n",
    "        books_list_rev = [(k, v) for k, v in book_rating_dict.items()]\n",
    "        # add a new dataframe with id, predicted rating tuples\n",
    "        book_rating_tups = pd.DataFrame(books_list_rev, columns=['id','predicted_rating'])\n",
    "        # merge both dataframes into one, id's column is common columns\n",
    "        recommended_books = recommended_books.merge(book_rating_tups)\n",
    "        # change predicted ratings >= 5.0 to 5\n",
    "        recommended_books.loc[recommended_books['predicted_rating'] > 5.0, 'predicted_rating'] = 5.0\n",
    "        # sort the predicted_rating column such that ratings with highest values\n",
    "        # are at the top with descending order\n",
    "        recommended_books = recommended_books.sort_values('predicted_rating', ascending=False)\n",
    "        # round the values for predicted ratings\n",
    "        recommended_books = recommended_books.round({'predicted_rating':r})\n",
    "        # create new columns for predicted ratings on a 1-5 scale\n",
    "        recommended_books['predicted_rating_scaled'] = recommended_books['predicted_rating']\n",
    "        # round the ratings to zero decimal places so only values from 1-5 exist\n",
    "        recommended_books = recommended_books.round({'predicted_rating_scaled':0})\n",
    "        # return recommended books\n",
    "        return recommended_books\n",
    "\n",
    "\n",
    "#train_epochs(MF_model, epochs=35, lr=0.005)\n",
    "model = MF(num_users, num_items, emb_size=100)\n",
    "train_epochs(model, epochs=100, lr=0.01)\n",
    "\n",
    "\n",
    "test_users = torch.LongTensor(test_ratings.user_id.values)\n",
    "test_books = torch.LongTensor(test_ratings.book_id.values)\n",
    "test_predictions = model(test_users, test_books)\n",
    "\n",
    "# normalize the ratings\n",
    "test_predictions = test_predictions.tolist()\n",
    "test_predictions = [i/max(test_predictions)*max_rating for i in test_predictions]\n",
    "# round the decimals to zero decimal places\n",
    "test_predictions = list(np.around(test_predictions, 0))\n"
   ]
  },
  {
   "cell_type": "code",
   "execution_count": 2,
   "metadata": {},
   "outputs": [
    {
     "data": {
      "text/html": [
       "<div>\n",
       "<style scoped>\n",
       "    .dataframe tbody tr th:only-of-type {\n",
       "        vertical-align: middle;\n",
       "    }\n",
       "\n",
       "    .dataframe tbody tr th {\n",
       "        vertical-align: top;\n",
       "    }\n",
       "\n",
       "    .dataframe thead th {\n",
       "        text-align: right;\n",
       "    }\n",
       "</style>\n",
       "<table border=\"1\" class=\"dataframe\">\n",
       "  <thead>\n",
       "    <tr style=\"text-align: right;\">\n",
       "      <th></th>\n",
       "      <th>id</th>\n",
       "      <th>isbn</th>\n",
       "      <th>authors</th>\n",
       "      <th>year</th>\n",
       "      <th>title</th>\n",
       "      <th>avg_rating</th>\n",
       "      <th>predicted_rating</th>\n",
       "      <th>predicted_rating_scaled</th>\n",
       "    </tr>\n",
       "  </thead>\n",
       "  <tbody>\n",
       "    <tr>\n",
       "      <th>77</th>\n",
       "      <td>5207</td>\n",
       "      <td>836217357</td>\n",
       "      <td>Bill Watterson</td>\n",
       "      <td>1993.0</td>\n",
       "      <td>The Days Are Just Packed: A Calvin and Hobbes ...</td>\n",
       "      <td>4.68</td>\n",
       "      <td>5.000</td>\n",
       "      <td>5.0</td>\n",
       "    </tr>\n",
       "    <tr>\n",
       "      <th>102</th>\n",
       "      <td>6920</td>\n",
       "      <td>751500283</td>\n",
       "      <td>Bill Watterson</td>\n",
       "      <td>1992.0</td>\n",
       "      <td>The Indispensable Calvin and Hobbes</td>\n",
       "      <td>4.73</td>\n",
       "      <td>4.908</td>\n",
       "      <td>5.0</td>\n",
       "    </tr>\n",
       "    <tr>\n",
       "      <th>149</th>\n",
       "      <td>9842</td>\n",
       "      <td>1250058902</td>\n",
       "      <td>Brandon Stanton</td>\n",
       "      <td>2015.0</td>\n",
       "      <td>Humans of New York: Stories</td>\n",
       "      <td>4.50</td>\n",
       "      <td>4.870</td>\n",
       "      <td>5.0</td>\n",
       "    </tr>\n",
       "    <tr>\n",
       "      <th>10</th>\n",
       "      <td>862</td>\n",
       "      <td>765326361</td>\n",
       "      <td>Brandon Sanderson</td>\n",
       "      <td>2014.0</td>\n",
       "      <td>Words of Radiance (The Stormlight Archive, #2)</td>\n",
       "      <td>4.77</td>\n",
       "      <td>4.850</td>\n",
       "      <td>5.0</td>\n",
       "    </tr>\n",
       "    <tr>\n",
       "      <th>147</th>\n",
       "      <td>9566</td>\n",
       "      <td>1417642165</td>\n",
       "      <td>Bill Watterson</td>\n",
       "      <td>1992.0</td>\n",
       "      <td>Attack of the Deranged Mutant Killer Monster S...</td>\n",
       "      <td>4.72</td>\n",
       "      <td>4.847</td>\n",
       "      <td>5.0</td>\n",
       "    </tr>\n",
       "    <tr>\n",
       "      <th>...</th>\n",
       "      <td>...</td>\n",
       "      <td>...</td>\n",
       "      <td>...</td>\n",
       "      <td>...</td>\n",
       "      <td>...</td>\n",
       "      <td>...</td>\n",
       "      <td>...</td>\n",
       "      <td>...</td>\n",
       "    </tr>\n",
       "    <tr>\n",
       "      <th>129</th>\n",
       "      <td>8495</td>\n",
       "      <td>671876465</td>\n",
       "      <td>Lois McMaster Bujold</td>\n",
       "      <td>1994.0</td>\n",
       "      <td>Mirror Dance (Vorkosigan Saga, #8)</td>\n",
       "      <td>4.32</td>\n",
       "      <td>4.446</td>\n",
       "      <td>4.0</td>\n",
       "    </tr>\n",
       "    <tr>\n",
       "      <th>0</th>\n",
       "      <td>110</td>\n",
       "      <td>553381695</td>\n",
       "      <td>George R.R. Martin</td>\n",
       "      <td>1998.0</td>\n",
       "      <td>A Clash of Kings  (A Song of Ice and Fire, #2)</td>\n",
       "      <td>4.40</td>\n",
       "      <td>4.446</td>\n",
       "      <td>4.0</td>\n",
       "    </tr>\n",
       "    <tr>\n",
       "      <th>145</th>\n",
       "      <td>9182</td>\n",
       "      <td>374180652</td>\n",
       "      <td>Michael J. Sandel</td>\n",
       "      <td>2009.0</td>\n",
       "      <td>Justice: What's the Right Thing to Do?</td>\n",
       "      <td>4.25</td>\n",
       "      <td>4.446</td>\n",
       "      <td>4.0</td>\n",
       "    </tr>\n",
       "    <tr>\n",
       "      <th>54</th>\n",
       "      <td>3341</td>\n",
       "      <td>NaN</td>\n",
       "      <td>Brandon Sanderson</td>\n",
       "      <td>2016.0</td>\n",
       "      <td>The Bands of Mourning (Mistborn, #6)</td>\n",
       "      <td>4.45</td>\n",
       "      <td>4.446</td>\n",
       "      <td>4.0</td>\n",
       "    </tr>\n",
       "    <tr>\n",
       "      <th>41</th>\n",
       "      <td>2729</td>\n",
       "      <td>143039962</td>\n",
       "      <td>Pablo Neruda, W.S. Merwin, Cristina GarcÃ­a</td>\n",
       "      <td>1924.0</td>\n",
       "      <td>Twenty Love Poems and a Song of Despair</td>\n",
       "      <td>4.33</td>\n",
       "      <td>4.445</td>\n",
       "      <td>4.0</td>\n",
       "    </tr>\n",
       "  </tbody>\n",
       "</table>\n",
       "<p>150 rows × 8 columns</p>\n",
       "</div>"
      ],
      "text/plain": [
       "       id        isbn                                      authors    year  \\\n",
       "77   5207   836217357                               Bill Watterson  1993.0   \n",
       "102  6920   751500283                               Bill Watterson  1992.0   \n",
       "149  9842  1250058902                              Brandon Stanton  2015.0   \n",
       "10    862   765326361                            Brandon Sanderson  2014.0   \n",
       "147  9566  1417642165                               Bill Watterson  1992.0   \n",
       "..    ...         ...                                          ...     ...   \n",
       "129  8495   671876465                         Lois McMaster Bujold  1994.0   \n",
       "0     110   553381695                           George R.R. Martin  1998.0   \n",
       "145  9182   374180652                            Michael J. Sandel  2009.0   \n",
       "54   3341         NaN                            Brandon Sanderson  2016.0   \n",
       "41   2729   143039962  Pablo Neruda, W.S. Merwin, Cristina GarcÃ­a  1924.0   \n",
       "\n",
       "                                                 title  avg_rating  \\\n",
       "77   The Days Are Just Packed: A Calvin and Hobbes ...        4.68   \n",
       "102                The Indispensable Calvin and Hobbes        4.73   \n",
       "149                        Humans of New York: Stories        4.50   \n",
       "10      Words of Radiance (The Stormlight Archive, #2)        4.77   \n",
       "147  Attack of the Deranged Mutant Killer Monster S...        4.72   \n",
       "..                                                 ...         ...   \n",
       "129                 Mirror Dance (Vorkosigan Saga, #8)        4.32   \n",
       "0       A Clash of Kings  (A Song of Ice and Fire, #2)        4.40   \n",
       "145             Justice: What's the Right Thing to Do?        4.25   \n",
       "54                The Bands of Mourning (Mistborn, #6)        4.45   \n",
       "41             Twenty Love Poems and a Song of Despair        4.33   \n",
       "\n",
       "     predicted_rating  predicted_rating_scaled  \n",
       "77              5.000                      5.0  \n",
       "102             4.908                      5.0  \n",
       "149             4.870                      5.0  \n",
       "10              4.850                      5.0  \n",
       "147             4.847                      5.0  \n",
       "..                ...                      ...  \n",
       "129             4.446                      4.0  \n",
       "0               4.446                      4.0  \n",
       "145             4.446                      4.0  \n",
       "54              4.446                      4.0  \n",
       "41              4.445                      4.0  \n",
       "\n",
       "[150 rows x 8 columns]"
      ]
     },
     "execution_count": 2,
     "metadata": {},
     "output_type": "execute_result"
    }
   ],
   "source": [
    "model.recommend(3000)"
   ]
  },
  {
   "cell_type": "markdown",
   "metadata": {},
   "source": [
    "## Extracting embeddings and embedding weights"
   ]
  },
  {
   "cell_type": "code",
   "execution_count": 3,
   "metadata": {},
   "outputs": [
    {
     "data": {
      "text/plain": [
       "<matplotlib.axes._subplots.AxesSubplot at 0x132cb9490>"
      ]
     },
     "execution_count": 3,
     "metadata": {},
     "output_type": "execute_result"
    },
    {
     "data": {
      "image/png": "[encoded data removed]",
      "text/plain": [
       "<Figure size 432x288 with 1 Axes>"
      ]
     },
     "metadata": {
      "needs_background": "light"
     },
     "output_type": "display_data"
    }
   ],
   "source": [
    "# Extract embeddings\n",
    "book_embeddings = model.item_embedding\n",
    "book_emb_weights = model.item_embedding.weight.detach().numpy()\n",
    "#Visualizing Embedding weights\n",
    "from sklearn.decomposition import PCA\n",
    "import seaborn as sns\n",
    "pca = PCA(n_components=2)\n",
    "pca_result = pca.fit_transform(book_emb_weights)\n",
    "sns.scatterplot(x=pca_result[:,0], y=pca_result[:,1])"
   ]
  },
  {
   "cell_type": "code",
   "execution_count": 4,
   "metadata": {},
   "outputs": [
    {
     "data": {
      "text/plain": [
       "1.0000002"
      ]
     },
     "execution_count": 4,
     "metadata": {},
     "output_type": "execute_result"
    }
   ],
   "source": [
    "book_emb_weights = book_emb_weights / np.linalg.norm(book_emb_weights, axis = 1).reshape((-1, 1))\n",
    "book_emb_weights[0][:10]\n",
    "np.sum(np.square(book_emb_weights[0]))"
   ]
  },
  {
   "cell_type": "code",
   "execution_count": 5,
   "metadata": {},
   "outputs": [
    {
     "data": {
      "text/plain": [
       "<matplotlib.axes._subplots.AxesSubplot at 0x1a39cc5b50>"
      ]
     },
     "execution_count": 5,
     "metadata": {},
     "output_type": "execute_result"
    },
    {
     "data": {
      "image/png": "[encoded data removed]",
      "text/plain": [
       "<Figure size 432x288 with 1 Axes>"
      ]
     },
     "metadata": {
      "needs_background": "light"
     },
     "output_type": "display_data"
    }
   ],
   "source": [
    "pca = PCA(n_components=2)\n",
    "pca_result = pca.fit_transform(book_emb_weights)\n",
    "sns.scatterplot(x=pca_result[:,0], y=pca_result[:,1])"
   ]
  },
  {
   "cell_type": "markdown",
   "metadata": {},
   "source": [
    "Interestingly, the Matrix Factorization embeddings are not as centered as one would expect and there are quite a few outliers. The bulk of embedding weights also centers around a certain spot very much, nonetheless, outliers are still clearly visible"
   ]
  },
  {
   "cell_type": "markdown",
   "metadata": {},
   "source": [
    "## Evaluating the system\n",
    "In order to properly perform the evalutaion, all 3 datasets were given the same input test set which was split from the validation test set and was completely unseen by all three models. However, I want to show the summary with sklearns's *classification_report* first, and then analyze the first metric - The regression loss"
   ]
  },
  {
   "cell_type": "code",
   "execution_count": 6,
   "metadata": {},
   "outputs": [
    {
     "name": "stdout",
     "output_type": "stream",
     "text": [
      "              precision    recall  f1-score   support\n",
      "\n",
      "           1       0.02      0.02      0.02      1792\n",
      "           2       0.06      0.66      0.12      6259\n",
      "           3       0.25      0.32      0.28     24420\n",
      "           4       0.35      0.00      0.01     36094\n",
      "           5       0.00      0.00      0.00     29811\n",
      "\n",
      "   micro avg       0.12      0.12      0.12     98376\n",
      "   macro avg       0.14      0.20      0.08     98376\n",
      "weighted avg       0.19      0.12      0.08     98376\n",
      "\n"
     ]
    }
   ],
   "source": [
    "import sklearn\n",
    "from sklearn.metrics import classification_report\n",
    "true_ratings = test_ratings.rating\n",
    "print(sklearn.metrics.classification_report(true_ratings, test_predictions, labels=[1, 2, 3, 4, 5], zero_division=0))"
   ]
  },
  {
   "cell_type": "code",
   "execution_count": 7,
   "metadata": {},
   "outputs": [
    {
     "name": "stdout",
     "output_type": "stream",
     "text": [
      "The regression loss for the MF model on the test data is: 1.6496401561356429\n"
     ]
    }
   ],
   "source": [
    "regression_loss_bmf = regression_loss(test_predictions)\n",
    "print(\"The regression loss for the MF model on the test data is: {}\".format(regression_loss_bmf))"
   ]
  },
  {
   "cell_type": "markdown",
   "metadata": {},
   "source": [
    "The regression loss of roughly 1.65 tells us that on average, our model's predicted ratings are off by 1.65 points on the scale, which, on a scale merely ranging from 1 to 5, is quite significant, especially since the recommendations will be ordered according to the predicted rating of each item. This shows that the model, despite performing well on the training and validation data, vastly underperforms on the test data due to what is most likely **overfitting**. The model could even struggle further with a rating scale that ranges from 1-10 or even higher.<br>\n",
    "Next, we will look at how the differences among the predicted ratings are:"
   ]
  },
  {
   "cell_type": "code",
   "execution_count": 8,
   "metadata": {},
   "outputs": [
    {
     "name": "stdout",
     "output_type": "stream",
     "text": [
      "Total count of rating class 1 predicted: 1490\n",
      "Total count of rating class 2 predicted: 64740\n",
      "Total count of rating class 3 predicted: 31875\n",
      "Total count of rating class 4 predicted: 269\n",
      "Total count of rating class 5 predicted: 1\n"
     ]
    }
   ],
   "source": [
    "r1_count = test_predictions.count(1)\n",
    "r2_count = test_predictions.count(2)\n",
    "r3_count = test_predictions.count(3)\n",
    "r4_count = test_predictions.count(4)\n",
    "r5_count = test_predictions.count(5)\n",
    "\n",
    "print(\"Total count of rating class 1 predicted: {}\".format(r1_count))\n",
    "print(\"Total count of rating class 2 predicted: {}\".format(r2_count))\n",
    "print(\"Total count of rating class 3 predicted: {}\".format(r3_count))\n",
    "print(\"Total count of rating class 4 predicted: {}\".format(r4_count))\n",
    "print(\"Total count of rating class 5 predicted: {}\".format(r5_count))"
   ]
  },
  {
   "cell_type": "code",
   "execution_count": 9,
   "metadata": {},
   "outputs": [
    {
     "data": {
      "image/png": "[encoded data removed]",
      "text/plain": [
       "<Figure size 432x288 with 1 Axes>"
      ]
     },
     "metadata": {
      "needs_background": "light"
     },
     "output_type": "display_data"
    }
   ],
   "source": [
    "import matplotlib.pyplot as plt\n",
    "fig = plt.figure()\n",
    "ax = fig.add_axes([0,0,1,1])\n",
    "ymax = len(test_ratings.rating)\n",
    "ymin = 0\n",
    "ax.set_ylim([ymin,ymax])\n",
    "ratings = ['rating=5', 'rating=4', 'rating=3', 'rating=2', 'rating=1']\n",
    "counts = [r5_count, r4_count, r3_count, r2_count, r1_count]\n",
    "ax.bar(ratings,counts)\n",
    "plt.show()"
   ]
  },
  {
   "cell_type": "code",
   "execution_count": 10,
   "metadata": {},
   "outputs": [
    {
     "name": "stdout",
     "output_type": "stream",
     "text": [
      "Total amount of correctly predicted ratings: 12182\n",
      "Total amount of incorrectly predicted ratings: 86194\n",
      "Accuracy of the model in percent: 12.38%\n",
      "Predictions off by one: 31175\n",
      "Percentage of ratings off by one out of all the test data: 31.69%\n",
      "Percentage of ratings off by one out of incorrectly predicted ratings: 36.17%\n"
     ]
    }
   ],
   "source": [
    "# First, we will analyze how many ratings are off by one\n",
    "class_loss = classification_loss(test_predictions, diff=1)\n",
    "print(\"Total amount of correctly predicted ratings: {}\".format(len(test_ratings.rating) - class_loss[0]))\n",
    "print(\"Total amount of incorrectly predicted ratings: {}\".format(class_loss[0]))\n",
    "print(\"Accuracy of the model in percent: {:.2f}%\".format(class_loss[1]))\n",
    "print(\"Predictions off by one: {}\".format(class_loss[2]))\n",
    "print(\"Percentage of ratings off by one out of all the test data: {:.2f}%\".format(class_loss[3]*100))\n",
    "print(\"Percentage of ratings off by one out of incorrectly predicted ratings: {:.2f}%\".format(class_loss[4]*100))"
   ]
  },
  {
   "cell_type": "markdown",
   "metadata": {},
   "source": [
    "The accuracy of the model is merely about 12%, but what is even more striking is the fact that the ratings which were off by *just* one only are about 36%, which means that the model could only incorrectly predict only about a third of the test set with a slight margin of one. This indicates to greater differences for the other 64% among the incorrectly predicted data, which is even more troubling. "
   ]
  },
  {
   "cell_type": "code",
   "execution_count": 11,
   "metadata": {},
   "outputs": [
    {
     "name": "stdout",
     "output_type": "stream",
     "text": [
      "Predictions off by two: 34406\n",
      "Percentage of ratings off by two out of all the test data: 34.97%\n",
      "Percentage of ratings off by two out of incorrectly predicted ratings: 39.92%\n"
     ]
    }
   ],
   "source": [
    "# Now we analyze the ratings off by two\n",
    "class_loss_two = classification_loss(test_predictions, diff=2)\n",
    "print(\"Predictions off by two: {}\".format(class_loss_two[2]))\n",
    "print(\"Percentage of ratings off by two out of all the test data: {:.2f}%\".format(class_loss_two[3]*100))\n",
    "print(\"Percentage of ratings off by two out of incorrectly predicted ratings: {:.2f}%\".format(class_loss_two[4]*100))"
   ]
  },
  {
   "cell_type": "markdown",
   "metadata": {},
   "source": [
    "The ratings that were off by two mark up pretty much 40% of the incorrectly predicted ratings. Granted, a difference of two might not seem like much, but given the context of a scale from 1-5 it is an important factor in how the recommendations are sorted."
   ]
  },
  {
   "cell_type": "code",
   "execution_count": 12,
   "metadata": {},
   "outputs": [
    {
     "name": "stdout",
     "output_type": "stream",
     "text": [
      "Predictions off by three: 20154\n",
      "Percentage of ratings off by three out of all the test data: 20.49%\n",
      "Percentage of ratings off by three out of incorrectly predicted ratings: 23.38%\n"
     ]
    }
   ],
   "source": [
    "#Ratings off by three\n",
    "class_loss_three = classification_loss(test_predictions, diff=3)\n",
    "print(\"Predictions off by three: {}\".format(class_loss_three[2]))\n",
    "print(\"Percentage of ratings off by three out of all the test data: {:.2f}%\".format(class_loss_three[3]*100))\n",
    "print(\"Percentage of ratings off by three out of incorrectly predicted ratings: {:.2f}%\".format(class_loss_three[4]*100))"
   ]
  },
  {
   "cell_type": "markdown",
   "metadata": {},
   "source": [
    "Roughly a quarter of the incorrectly predicted ratings were off by three, which further emphasizes the model's failure to properly adjust to the testing data."
   ]
  },
  {
   "cell_type": "code",
   "execution_count": 13,
   "metadata": {},
   "outputs": [
    {
     "name": "stdout",
     "output_type": "stream",
     "text": [
      "Predictions off by four: 459\n",
      "Percentage of ratings off by four out of all the test data: 0.47%\n",
      "Percentage of ratings off by four out of incorrectly predicted ratings: 0.53%\n"
     ]
    }
   ],
   "source": [
    "# Ratings off by four \n",
    "class_loss_four = classification_loss(test_predictions, diff=4)\n",
    "print(\"Predictions off by four: {}\".format(class_loss_four[2]))\n",
    "print(\"Percentage of ratings off by four out of all the test data: {:.2f}%\".format(class_loss_four[3]*100))\n",
    "print(\"Percentage of ratings off by four out of incorrectly predicted ratings: {:.2f}%\".format(class_loss_four[4]*100))"
   ]
  },
  {
   "cell_type": "markdown",
   "metadata": {},
   "source": [
    "The predictions that were off by four mark are the least among the incorrectly predicted data, which shows that the model did manage to largest differences right, but still underperformed as the other values are quite high.\n"
   ]
  },
  {
   "cell_type": "code",
   "execution_count": 15,
   "metadata": {},
   "outputs": [
    {
     "data": {
      "image/png": "[encoded data removed]",
      "text/plain": [
       "<Figure size 432x288 with 1 Axes>"
      ]
     },
     "metadata": {
      "needs_background": "light"
     },
     "output_type": "display_data"
    }
   ],
   "source": [
    "# Plotting the data to show difference between correctly and incorrectly predicted ratings\n",
    "import matplotlib.pyplot as plt\n",
    "fig = plt.figure()\n",
    "ax = fig.add_axes([0,0,1,1])\n",
    "ymax = len(test_ratings.rating)\n",
    "ymin = 0\n",
    "ax.set_ylim([ymin,ymax])\n",
    "correct = ymax - class_loss[0]\n",
    "offs = ['correctly predicted', 'incorrectly predicted']\n",
    "counts = [correct, class_loss[0]]\n",
    "ax.bar(offs,counts)\n",
    "plt.show()"
   ]
  },
  {
   "cell_type": "markdown",
   "metadata": {},
   "source": [
    "The bar plot further emphasizes the model's failre to properly fit the training data, although performing well on training and validation. This goes to show that the model has obvious problems with **generalization**"
   ]
  },
  {
   "cell_type": "code",
   "execution_count": 16,
   "metadata": {},
   "outputs": [
    {
     "data": {
      "image/png": "[encoded data removed]",
      "text/plain": [
       "<Figure size 432x288 with 1 Axes>"
      ]
     },
     "metadata": {
      "needs_background": "light"
     },
     "output_type": "display_data"
    }
   ],
   "source": [
    "# Plotting the amount of ratings that were off by 1, 2, 3, 4 respectively out of all incorrectly predicted ratings\n",
    "fig2 = plt.figure()\n",
    "ax2 = fig2.add_axes([0,0,1,1])\n",
    "ymax = class_loss[0]\n",
    "ymin = 0\n",
    "ax2.set_ylim([ymin,ymax])\n",
    "offs = ['off by one', 'off by two', 'off by three', 'off by four']\n",
    "counts = [class_loss[2],class_loss_two[2], class_loss_three[2], class_loss_four[2]]\n",
    "ax2.bar(offs,counts)\n",
    "plt.show()"
   ]
  },
  {
   "cell_type": "code",
   "execution_count": 18,
   "metadata": {},
   "outputs": [
    {
     "name": "stdout",
     "output_type": "stream",
     "text": [
      "Recall for rating 5: 0.000%\n",
      "Recall for rating 4: 0.260%\n",
      "Recall for rating 3: 32.461%\n",
      "Recall for rating 2: 65.969%\n",
      "Recall for rating 1: 1.786%\n",
      "Total macro averaged recall: 20.095%\n"
     ]
    }
   ],
   "source": [
    "# Recalls \n",
    "recall_five = recall_per(test_predictions, 5)\n",
    "recall_four = recall_per(test_predictions, 4)\n",
    "recall_three = recall_per(test_predictions, 3)\n",
    "recall_two = recall_per(test_predictions, 2)\n",
    "recall_one = recall_per(test_predictions, 1)\n",
    "recall_total = recall_macro_avg(test_predictions)\n",
    "\n",
    "print(\"Recall for rating 5: {:.3f}%\".format(recall_five*100))\n",
    "print(\"Recall for rating 4: {:.3f}%\".format(recall_four*100))\n",
    "print(\"Recall for rating 3: {:.3f}%\".format(recall_three*100))\n",
    "print(\"Recall for rating 2: {:.3f}%\".format(recall_two*100))\n",
    "print(\"Recall for rating 1: {:.3f}%\".format(recall_one*100))\n",
    "print(\"Total macro averaged recall: {:.3f}%\".format(recall_total*100))"
   ]
  },
  {
   "cell_type": "markdown",
   "metadata": {},
   "source": [
    "The recall for all the rating classes shows that while total recall was relatively poor, the recall for rating class 2\n",
    "is very high and thus the model managed to get the ratings for rating class 2 rather succesfully, while it clearly underperformed for rating class 5 since its recall value is 0, same can be said about rating class 4 and 1 which have also extremely low recall ratings. Rating class 3 also provides good recall, given the context of the other values. This indicates towards the fact that the model performed better on the lower values of the scale."
   ]
  },
  {
   "cell_type": "code",
   "execution_count": 20,
   "metadata": {},
   "outputs": [
    {
     "data": {
      "image/png": "[encoded data removed]",
      "text/plain": [
       "<Figure size 432x288 with 1 Axes>"
      ]
     },
     "metadata": {
      "needs_background": "light"
     },
     "output_type": "display_data"
    }
   ],
   "source": [
    "# Plotting the recall\n",
    "fig3 = plt.figure()\n",
    "ax3 = fig3.add_axes([0,0,1,1])\n",
    "ticks = [10,20,30,40,50,60, 70, 80, 90, 100]\n",
    "ax3.set_yticks(ticks)\n",
    "ymax = 100\n",
    "ymin = 0\n",
    "ax3.set_ylim([ymin,ymax])\n",
    "ratings = ['rating=5', 'rating=4', 'rating=3', 'rating=2', 'rating=1']\n",
    "counts = [recall_five*100, recall_four*100, recall_three*100, recall_two*100, recall_one*100]\n",
    "ax3.bar(ratings,counts)\n",
    "plt.show()"
   ]
  },
  {
   "cell_type": "code",
   "execution_count": 21,
   "metadata": {},
   "outputs": [
    {
     "name": "stdout",
     "output_type": "stream",
     "text": [
      "Precision for rating 5: 0.000%\n",
      "Precision for rating 4: 34.944%\n",
      "Precision for rating 3: 24.869%\n",
      "Precision for rating 2: 6.378%\n",
      "Precision for rating 1: 2.148%\n",
      "Total macro averaged precision: 13.668%\n"
     ]
    }
   ],
   "source": [
    "##Analyzing precisions\n",
    "precision_five = precision_per(test_predictions, 5)\n",
    "precision_four = precision_per(test_predictions, 4)\n",
    "precision_three = precision_per(test_predictions, 3)\n",
    "precision_two = precision_per(test_predictions, 2)\n",
    "precision_one = precision_per(test_predictions, 1)\n",
    "precision_total = precision_macro_avg(test_predictions)\n",
    "\n",
    "print(\"Precision for rating 5: {:.3f}%\".format(precision_five*100))\n",
    "print(\"Precision for rating 4: {:.3f}%\".format(precision_four*100))\n",
    "print(\"Precision for rating 3: {:.3f}%\".format(precision_three*100))\n",
    "print(\"Precision for rating 2: {:.3f}%\".format(precision_two*100))\n",
    "print(\"Precision for rating 1: {:.3f}%\".format(precision_one*100))\n",
    "print(\"Total macro averaged precision: {:.3f}%\".format(precision_total*100))"
   ]
  },
  {
   "cell_type": "markdown",
   "metadata": {},
   "source": [
    "Again, the model seems to have greatly struggled with the ratings of rating class 5 as the value is here once again a zero. It did however provide some results for rating classes 3 and 4 which are somewhat considerable, while rating class 2 has a precision of only about 6% and rating class 1 has a precision of about 2%."
   ]
  },
  {
   "cell_type": "code",
   "execution_count": 22,
   "metadata": {},
   "outputs": [
    {
     "data": {
      "image/png": "[encoded data removed]",
      "text/plain": [
       "<Figure size 432x288 with 1 Axes>"
      ]
     },
     "metadata": {
      "needs_background": "light"
     },
     "output_type": "display_data"
    }
   ],
   "source": [
    "##Plotting precisions\n",
    "# Plotting the recall\n",
    "fig4 = plt.figure()\n",
    "ax4 = fig4.add_axes([0,0,1,1])\n",
    "ax4.set_yticks(ticks)\n",
    "ymax = 100\n",
    "ymin = 0\n",
    "ax4.set_ylim([ymin,ymax])\n",
    "ratings = ['rating=5', 'rating=4', 'rating=3', 'rating=2', 'rating=1']\n",
    "counts = [precision_five*100, precision_four*100, precision_three*100, precision_two*100, precision_one*100]\n",
    "ax4.bar(ratings,counts)\n",
    "plt.show()"
   ]
  },
  {
   "cell_type": "markdown",
   "metadata": {},
   "source": [
    "Next, I will analyze the measures for F1-Score:"
   ]
  },
  {
   "cell_type": "code",
   "execution_count": 24,
   "metadata": {},
   "outputs": [
    {
     "name": "stdout",
     "output_type": "stream",
     "text": [
      "F1-measure for rating class 5: 0.000%\n",
      "F1-measure for rating class 4: 1.000%\n",
      "F1-measure for rating class 3: 28.000%\n",
      "F1-measure for rating class 2: 12.000%\n",
      "F1-measure total for the test set macro-averaged: 7.043%\n",
      "Weighted F1-measure for the test set 7.956%\n",
      "Weighted F1-measure for the test set micro-averaged: 12.383%\n"
     ]
    }
   ],
   "source": [
    "from sklearn.metrics import f1_score\n",
    "\n",
    "# f1-scores taken from sk_learn since my original function in the metrics.py file had a bug\n",
    "f_five =  0.00\n",
    "f_four = 0.01\n",
    "f_three = 0.28\n",
    "f_two = 0.12\n",
    "f_one = 0.02 \n",
    "f_total = f1_score(test_ratings.rating, test_predictions, average='macro')\n",
    "f1_total_weighted = f1_score(test_ratings.rating, test_predictions, average='weighted')\n",
    "f1_total_micro = f1_score(test_ratings.rating, test_predictions, average='micro')\n",
    "\n",
    "\n",
    "print(\"F1-measure for rating class 5: {:.3f}%\".format(f_five*100))\n",
    "print(\"F1-measure for rating class 4: {:.3f}%\".format(f_four*100))\n",
    "print(\"F1-measure for rating class 3: {:.3f}%\".format(f_three*100))\n",
    "print(\"F1-measure for rating class 2: {:.3f}%\".format(f_two*100))\n",
    "print(\"F1-measure total for the test set macro-averaged: {:.3f}%\".format(f_total*100))\n",
    "print(\"Weighted F1-measure for the test set {:.3f}%\".format(f1_total_weighted*100))\n",
    "print(\"Weighted F1-measure for the test set micro-averaged: {:.3f}%\".format(f1_total_micro*100))"
   ]
  },
  {
   "cell_type": "code",
   "execution_count": 25,
   "metadata": {},
   "outputs": [
    {
     "data": {
      "image/png": "[encoded data removed]",
      "text/plain": [
       "<Figure size 432x288 with 1 Axes>"
      ]
     },
     "metadata": {
      "needs_background": "light"
     },
     "output_type": "display_data"
    }
   ],
   "source": [
    "# Plotting the f-measures\n",
    "\n",
    "fig5 = plt.figure()\n",
    "ax5 = fig5.add_axes([0,0,1,1])\n",
    "ax5.set_yticks(ticks)\n",
    "ymax = 100\n",
    "ymin = 0\n",
    "ax5.set_ylim([ymin,ymax])\n",
    "ratings = ['rating=5', 'rating=4', 'rating=3', 'rating=2', 'rating=1']\n",
    "counts = [f_five*100, f_four*100, f_three*100, f_two*100, 0]\n",
    "ax5.bar(ratings,counts)\n",
    "plt.show()"
   ]
  },
  {
   "cell_type": "markdown",
   "metadata": {},
   "source": [
    "Again, the awfully low ratings for rating class 1 and rating class 5 are instantly visible, which is no suprise due tot their low recall and precision, respectively. Rating class 3 however has a somewhat acceptable value for the F1-Score, followed by rating class 2."
   ]
  },
  {
   "cell_type": "markdown",
   "metadata": {},
   "source": [
    "## Conclusion\n",
    "The evaluation on the test data clearly shows that the Matrix Factorization model struggles greatly with properly adjusting the model to unseen data; i.e. the model vastly **overfits**. Since the predicted ratings influence the recommendation process, this can become a problem with other databases that impose a different rating scale where fine differences could influence the recommendations greatly. On another note, Matrix Factorization requires normalization of the test prediction outputs which also takes some amount of time. All in all, Matrix Factorization provided a good result for training and validation, but couldn't live up to that result in the testing phase. In order to potentially improve the Matrix Factorization and save it from the problem of overfitting, we will next look at **Biased Matrix Factorization**"
   ]
  }
 ],
 "metadata": {
  "kernelspec": {
   "display_name": "Python 3",
   "language": "python",
   "name": "python3"
  },
  "language_info": {
   "codemirror_mode": {
    "name": "ipython",
    "version": 3
   },
   "file_extension": ".py",
   "mimetype": "text/x-python",
   "name": "python",
   "nbconvert_exporter": "python",
   "pygments_lexer": "ipython3",
   "version": "3.7.7"
  }
 },
 "nbformat": 4,
 "nbformat_minor": 4
}
