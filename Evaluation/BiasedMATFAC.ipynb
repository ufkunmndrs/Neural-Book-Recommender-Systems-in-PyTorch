{
 "cells": [
  {
   "cell_type": "markdown",
   "metadata": {},
   "source": [
    "# Biased Matrix Factorization\n",
    "As the name suggests, Biased Matrix Factorization introduces **Biases** on both item and user embeddings in order to combat the problem of potential overfitting of which simple Matrix Factorization suffers from. The architecture of the model is exactly the same as Matrix Factorization, the only difference being that *weight decay* is now added as well, which, as a hyperparameter, could be adjusted and experimented with if need be."
   ]
  },
  {
   "cell_type": "code",
   "execution_count": 1,
   "metadata": {},
   "outputs": [
    {
     "name": "stdout",
     "output_type": "stream",
     "text": [
      "Number of users: 53424, Number of books: 10000, Min rating: 1, Max rating: 5\n",
      "Epoch:0, Loss:15.360435485839844\n",
      "Epoch:1, Loss:14.76078987121582\n",
      "Epoch:2, Loss:14.032078742980957\n",
      "Epoch:3, Loss:13.184896469116211\n",
      "Epoch:4, Loss:12.230961799621582\n",
      "Epoch:5, Loss:11.184028625488281\n",
      "Epoch:6, Loss:10.060667037963867\n",
      "Epoch:7, Loss:8.880870819091797\n",
      "Epoch:8, Loss:7.668707847595215\n",
      "Epoch:9, Loss:6.4524102210998535\n",
      "Epoch:10, Loss:5.264852046966553\n",
      "Epoch:11, Loss:4.143182754516602\n",
      "Epoch:12, Loss:3.1281239986419678\n",
      "Epoch:13, Loss:2.2619168758392334\n",
      "Epoch:14, Loss:1.5845947265625\n",
      "Epoch:15, Loss:1.1275147199630737\n",
      "Epoch:16, Loss:0.9038820266723633\n",
      "Epoch:17, Loss:0.8985734581947327\n",
      "Epoch:18, Loss:1.062218427658081\n",
      "Epoch:19, Loss:1.3166946172714233\n",
      "Epoch:20, Loss:1.573978066444397\n",
      "Epoch:21, Loss:1.7604564428329468\n",
      "Epoch:22, Loss:1.834276556968689\n",
      "Epoch:23, Loss:1.789122462272644\n",
      "Epoch:24, Loss:1.646570086479187\n",
      "Epoch:25, Loss:1.4436423778533936\n",
      "Epoch:26, Loss:1.220861792564392\n",
      "Epoch:27, Loss:1.0134921073913574\n",
      "Epoch:28, Loss:0.846493661403656\n",
      "Epoch:29, Loss:0.7328401803970337\n",
      "Epoch:30, Loss:0.6743575930595398\n",
      "Epoch:31, Loss:0.6642197370529175\n",
      "Epoch:32, Loss:0.6901673674583435\n",
      "Epoch:33, Loss:0.7377039194107056\n",
      "Epoch:34, Loss:0.7927300930023193\n",
      "Epoch:35, Loss:0.8433656692504883\n",
      "Epoch:36, Loss:0.880955696105957\n",
      "Epoch:37, Loss:0.9004068970680237\n",
      "Epoch:38, Loss:0.9000210165977478\n",
      "Epoch:39, Loss:0.8810253143310547\n",
      "Epoch:40, Loss:0.8469275832176208\n",
      "Epoch:41, Loss:0.8027706742286682\n",
      "Epoch:42, Loss:0.7543418407440186\n",
      "Epoch:43, Loss:0.7073972821235657\n",
      "Epoch:44, Loss:0.6669299006462097\n",
      "Epoch:45, Loss:0.6365469098091125\n",
      "Epoch:46, Loss:0.6180523037910461\n",
      "Epoch:47, Loss:0.6112878322601318\n",
      "Epoch:48, Loss:0.6143041253089905\n",
      "Epoch:49, Loss:0.6238325834274292\n",
      "Epoch:50, Loss:0.6360016465187073\n",
      "Epoch:51, Loss:0.6471250057220459\n",
      "Epoch:52, Loss:0.6543944478034973\n",
      "Epoch:53, Loss:0.6563143134117126\n",
      "Epoch:54, Loss:0.6528070569038391\n",
      "Epoch:55, Loss:0.6449889540672302\n",
      "Epoch:56, Loss:0.6347271800041199\n",
      "Epoch:57, Loss:0.6241141557693481\n",
      "Epoch:58, Loss:0.6149857640266418\n",
      "Epoch:59, Loss:0.6085870265960693\n",
      "Epoch:60, Loss:0.6054258942604065\n",
      "Epoch:61, Loss:0.6053072214126587\n",
      "Epoch:62, Loss:0.6074960231781006\n",
      "Epoch:63, Loss:0.6109541058540344\n",
      "Epoch:64, Loss:0.6145951151847839\n",
      "Epoch:65, Loss:0.6174898147583008\n",
      "Epoch:66, Loss:0.6190089583396912\n",
      "Epoch:67, Loss:0.6188894510269165\n",
      "Epoch:68, Loss:0.6172193288803101\n",
      "Epoch:69, Loss:0.6143624782562256\n",
      "Epoch:70, Loss:0.6108486652374268\n",
      "Epoch:71, Loss:0.6072480082511902\n",
      "Epoch:72, Loss:0.6040545105934143\n",
      "Epoch:73, Loss:0.6016053557395935\n",
      "Epoch:74, Loss:0.6000361442565918\n",
      "Epoch:75, Loss:0.5992881059646606\n",
      "Epoch:76, Loss:0.5991526246070862\n",
      "Epoch:77, Loss:0.5993404388427734\n",
      "Epoch:78, Loss:0.5995594263076782\n",
      "Epoch:79, Loss:0.5995825529098511\n",
      "Epoch:80, Loss:0.599286675453186\n",
      "Epoch:81, Loss:0.5986640453338623\n",
      "Epoch:82, Loss:0.597800076007843\n",
      "Epoch:83, Loss:0.5968376994132996\n",
      "Epoch:84, Loss:0.5959296226501465\n",
      "Epoch:85, Loss:0.595194399356842\n",
      "Epoch:86, Loss:0.5946954488754272\n",
      "Epoch:87, Loss:0.5944278836250305\n",
      "Epoch:88, Loss:0.5943300724029541\n",
      "Epoch:89, Loss:0.5943033695220947\n",
      "Epoch:90, Loss:0.5942398309707642\n",
      "Epoch:91, Loss:0.5940476059913635\n",
      "Epoch:92, Loss:0.5936638712882996\n",
      "Epoch:93, Loss:0.5930701494216919\n",
      "Epoch:94, Loss:0.592285692691803\n",
      "Epoch:95, Loss:0.5913588404655457\n",
      "Epoch:96, Loss:0.5903507471084595\n",
      "Epoch:97, Loss:0.5893226265907288\n",
      "Epoch:98, Loss:0.5883211493492126\n",
      "Epoch:99, Loss:0.5873739719390869\n",
      "test loss 0.721 \n"
     ]
    }
   ],
   "source": [
    "#!/usr/bin/env python3\n",
    "# -*- coding: utf-8 -*-\n",
    "\"\"\"\n",
    "Created on Tue Sep 29 15:58:08 2020\n",
    "\n",
    "@author: Ufkun-Bayram Menderes\n",
    "\n",
    "This Python Module contains the implementation of Recommender Systems for the \n",
    "goodbooks10k dataset based on Biased Matrix Factorization.\n",
    "Training for model is provided via train.py modul\n",
    "The Model is implemented in PyTorch.\n",
    "\"\"\"\n",
    "import torch\n",
    "import torch.nn as nn\n",
    "import torch.nn.functional as F\n",
    "import torch.optim as optim\n",
    "import numpy as np\n",
    "from load_goodbooks_ds import *\n",
    "from encode_books import proc_col, encode_data\n",
    "from train import train_epochs, test_loss\n",
    "import pandas as pd\n",
    "from metrics import *\n",
    "\n",
    "###############################################################################\n",
    "# 1st part: Loading the goodbooks dataset from the load_goodbooks_ds.py file\n",
    "# In that file, the dataset is alredy split up into training, validation and test\n",
    "# sets. \n",
    "# train_ratings = Training set, valid_ratings = validation set, test_rating = \n",
    "# testset. The training set consists of 80% of the data in the goodbooks10k \n",
    "# dataset, while validation and training make up 10% each. \n",
    "###############################################################################\n",
    "\n",
    "\n",
    "# number of users for embeddings = 53424\n",
    "num_users = train_ratings.user_id.nunique()\n",
    "# number of books = 10000\n",
    "num_items = train_ratings.book_id.nunique()\n",
    "# determine min and max ratings\n",
    "min_rating = min(ratings[\"rating\"])\n",
    "max_rating = max(ratings[\"rating\"])\n",
    "second_highest = max_rating - 1\n",
    "\n",
    "min_user_id = min(ratings[\"user_id\"])\n",
    "max_user_id = max(ratings[\"user_id\"])\n",
    "\n",
    "print(\"Number of users: {}, Number of books: {}, Min rating: {}, Max rating: {}\"\n",
    "      .format(num_users_total, num_items, min_rating, max_rating))\n",
    "\n",
    "\n",
    "class Bias_MF(nn.Module):\n",
    "    def __init__(self, num_users, num_items, emb_size=100):\n",
    "        \"\"\"\n",
    "        Bias Matrix factorization class which includes includes \n",
    "        biases both in the instantiation of an object of this class \n",
    "        and the forward pass\n",
    "\n",
    "        Parameters\n",
    "        ----------\n",
    "        num_users : int\n",
    "            number of users in a given dataset/pandas dataframe\n",
    "        num_items : int\n",
    "            number of items in a given dataset/pandas dataframe\n",
    "        emb_size : int, optional\n",
    "            embedding size. The default is 100.\n",
    "\n",
    "        Bias MF object\n",
    "        -------\n",
    "        None.\n",
    "\n",
    "        \"\"\"\n",
    "        super(Bias_MF, self).__init__()\n",
    "        # user embeddings\n",
    "        self.user_embedding = nn.Embedding(num_users, emb_size)\n",
    "        # bias embeddings for user\n",
    "        self.user_bias = nn.Embedding(num_users, 1)\n",
    "        # item embeddings\n",
    "        self.item_embedding = nn.Embedding(num_items, emb_size)\n",
    "        # bias embeddings for item\n",
    "        self.item_bias = nn.Embedding(num_items, 1)\n",
    "        self.user_embedding.weight.data.uniform_(0,0.05)\n",
    "        self.item_embedding.weight.data.uniform_(0,0.05)\n",
    "        self.user_bias.weight.data.uniform_(-0.01,0.01)\n",
    "        self.item_bias.weight.data.uniform_(-0.01,0.01)\n",
    "        \n",
    "    def forward(self, user, item):\n",
    "        \"\"\"\n",
    "        Forward pass method of the Bias_MF class\n",
    "        includes biases for both users and items into the computation\n",
    "\n",
    "        Parameters\n",
    "        ----------\n",
    "        user : int\n",
    "            user and its numerical representation as user_ids\n",
    "            \n",
    "        item : int\n",
    "            items (in this case books) and their numerical representations\n",
    "            as book_ids\n",
    "\n",
    "        Returns\n",
    "        -------\n",
    "        torch.tensor\n",
    "            PyTorch tensor containing output of forward pass\n",
    "\n",
    "        \"\"\"\n",
    "        user_vector = self.user_embedding(user)\n",
    "        item_vector = self.item_embedding(item)\n",
    "        bias_user = self.user_bias(user).squeeze()\n",
    "        bias_item = self.item_bias(item).squeeze()\n",
    "        return (user_vector*item_vector).sum(1) +  bias_user  + bias_item\n",
    "    \n",
    "    def recommend(self, user_id, n=150, r=3):\n",
    "        \"\"\"\n",
    "        Recommends n top items to a user \n",
    "\n",
    "        Parameters\n",
    "        ----------\n",
    "        user_id : int\n",
    "            integer representation of a user, will be converted to a torch.Tensor\n",
    "        n : int, optional\n",
    "            number of top recommendations which we will return.\n",
    "            The default is 10.\n",
    "        \n",
    "        r : int, optional\n",
    "            Decimal places to which predicted rating shall be rounded up to\n",
    "\n",
    "        Returns\n",
    "        -------\n",
    "        recommendations : list\n",
    "            list top n recommendations with predicted ratings\n",
    "\n",
    "        \"\"\"\n",
    "        if user_id > max_user_id or user_id < min_user_id:\n",
    "            raise ValueError(\"Invalid user ID\")\n",
    "        books = load_books()\n",
    "        user = torch.tensor([user_id])\n",
    "        books_recommend = torch.tensor(ratings.book_id.unique().tolist()) - 1\n",
    "        predictions = model(user, books_recommend).tolist()\n",
    "        # normalize the ratings since many ratings are over 5.0\n",
    "        predictions = [i/max(predictions)*max_rating for i in predictions]\n",
    "        # zip the book_ids and corresponding rating prediction to a list of \n",
    "        # (rating, id) tuples\n",
    "        book_ids = ratings.book_id.unique()\n",
    "        predictions = list(zip(predictions, book_ids))\n",
    "        # get the books which the user has alread read\n",
    "        user_books_read = ratings[ratings.user_id == user]\n",
    "        # make a list out of the book_id's that user has alread read\n",
    "        read_list = list(user_books_read.book_id)\n",
    "        # make an empty list for unread books, fill it with book_ids\n",
    "        # of books that user has not rated/read yet\n",
    "        unread_books = []\n",
    "        for book in predictions:\n",
    "            if book[1] not in read_list:\n",
    "                unread_books.append(book)\n",
    "        # sort the elements according to their rating, top ratings at top\n",
    "        unread_books = sorted(unread_books, key=lambda book_tuple: book_tuple[0],\n",
    "                              reverse=True)\n",
    "        # indice the list on desired top n elements\n",
    "        top_n_books = unread_books[:n]\n",
    "        # get book_ids of top n elements\n",
    "        top_n_book_ids = [books[1] for books in top_n_books]\n",
    "        # get the full book information of these books from books.csv dataset\n",
    "        recommended_books = books[books[\"id\"].isin(top_n_book_ids)]\n",
    "        # make dict out of top_n_books, keys=ratings, values=ids\n",
    "        book_rating_dict = dict(top_n_books)\n",
    "        # reverse keys and values s.t. ids are keys, ratings are values\n",
    "        book_rating_dict = {value:key for key, value in book_rating_dict.items()}\n",
    "        # make tuples out key, value elements, save them in the new list\n",
    "        books_list_rev = [(k, v) for k, v in book_rating_dict.items()]\n",
    "        # add a new dataframe with id, predicted rating tuples\n",
    "        book_rating_tups = pd.DataFrame(books_list_rev, columns=['id','predicted_rating'])\n",
    "        # merge both dataframes into one, id's column is common columns\n",
    "        recommended_books = recommended_books.merge(book_rating_tups)\n",
    "        # change predicted ratings >= 5.0 to 5\n",
    "        recommended_books.loc[recommended_books['predicted_rating'] > 5.0, 'predicted_rating'] = 5.0\n",
    "        # sort the predicted_rating column such that ratings with highest values\n",
    "        # are at the top with descending order\n",
    "        recommended_books = recommended_books.sort_values('predicted_rating', ascending=False)\n",
    "        # round the values for predicted ratings\n",
    "        recommended_books = recommended_books.round({'predicted_rating':r})\n",
    "        # create new columns for predicted ratings on a 1-5 scale\n",
    "        recommended_books['predicted_rating_scaled'] = recommended_books['predicted_rating']\n",
    "        # round the ratings to zero decimal places so only values from 1-5 exist\n",
    "        recommended_books = recommended_books.round({'predicted_rating_scaled':0})\n",
    "        # return recommended books\n",
    "        return recommended_books\n",
    "        \n",
    "        \n",
    "\n",
    "\n",
    "model = Bias_MF(num_users, num_items, emb_size=100)\n",
    "train_epochs(model, epochs=100, lr=0.01, wd=1e-6)\n",
    "\n",
    "\n",
    "test_users = torch.LongTensor(test_ratings.user_id.values)\n",
    "test_books = torch.LongTensor(test_ratings.book_id.values)\n",
    "test_predictions = model(test_users, test_books)\n",
    "\n",
    "# Normalize test predictions\n",
    "test_predictions = test_predictions.tolist()\n",
    "test_predictions = [i/max(test_predictions)*max_rating for i in test_predictions]\n",
    "# round the predictions to zero decimal places\n",
    "test_predictions = list(np.around(test_predictions, 0))\n",
    "\n"
   ]
  },
  {
   "cell_type": "markdown",
   "metadata": {},
   "source": [
    "### Recommending items for a random user\n",
    "Now, just, as before, I will recommend items to a randomly chosen user"
   ]
  },
  {
   "cell_type": "code",
   "execution_count": 2,
   "metadata": {},
   "outputs": [
    {
     "data": {
      "text/html": [
       "<div>\n",
       "<style scoped>\n",
       "    .dataframe tbody tr th:only-of-type {\n",
       "        vertical-align: middle;\n",
       "    }\n",
       "\n",
       "    .dataframe tbody tr th {\n",
       "        vertical-align: top;\n",
       "    }\n",
       "\n",
       "    .dataframe thead th {\n",
       "        text-align: right;\n",
       "    }\n",
       "</style>\n",
       "<table border=\"1\" class=\"dataframe\">\n",
       "  <thead>\n",
       "    <tr style=\"text-align: right;\">\n",
       "      <th></th>\n",
       "      <th>id</th>\n",
       "      <th>isbn</th>\n",
       "      <th>authors</th>\n",
       "      <th>year</th>\n",
       "      <th>title</th>\n",
       "      <th>avg_rating</th>\n",
       "      <th>predicted_rating</th>\n",
       "      <th>predicted_rating_scaled</th>\n",
       "    </tr>\n",
       "  </thead>\n",
       "  <tbody>\n",
       "    <tr>\n",
       "      <th>125</th>\n",
       "      <td>8946</td>\n",
       "      <td>9646534783</td>\n",
       "      <td>Hafez</td>\n",
       "      <td>1380.0</td>\n",
       "      <td>The Divan</td>\n",
       "      <td>4.63</td>\n",
       "      <td>5.000</td>\n",
       "      <td>5.0</td>\n",
       "    </tr>\n",
       "    <tr>\n",
       "      <th>99</th>\n",
       "      <td>7844</td>\n",
       "      <td>60198818</td>\n",
       "      <td>Ramachandra Guha</td>\n",
       "      <td>2007.0</td>\n",
       "      <td>India After Gandhi: The History of the World's...</td>\n",
       "      <td>4.34</td>\n",
       "      <td>4.883</td>\n",
       "      <td>5.0</td>\n",
       "    </tr>\n",
       "    <tr>\n",
       "      <th>147</th>\n",
       "      <td>9842</td>\n",
       "      <td>1250058902</td>\n",
       "      <td>Brandon Stanton</td>\n",
       "      <td>2015.0</td>\n",
       "      <td>Humans of New York: Stories</td>\n",
       "      <td>4.50</td>\n",
       "      <td>4.838</td>\n",
       "      <td>5.0</td>\n",
       "    </tr>\n",
       "    <tr>\n",
       "      <th>52</th>\n",
       "      <td>5207</td>\n",
       "      <td>836217357</td>\n",
       "      <td>Bill Watterson</td>\n",
       "      <td>1993.0</td>\n",
       "      <td>The Days Are Just Packed: A Calvin and Hobbes ...</td>\n",
       "      <td>4.68</td>\n",
       "      <td>4.811</td>\n",
       "      <td>5.0</td>\n",
       "    </tr>\n",
       "    <tr>\n",
       "      <th>98</th>\n",
       "      <td>7831</td>\n",
       "      <td>9770148083</td>\n",
       "      <td>ØµÙØ§Ø­ Ø¬Ø§ÙÙÙ, ÙØ­ÙÙ Ø­ÙÙ</td>\n",
       "      <td>1963.0</td>\n",
       "      <td>Ø±Ø¨Ø§Ø¹ÙØ§Øª ØµÙØ§Ø­ Ø¬Ø§ÙÙÙ</td>\n",
       "      <td>4.43</td>\n",
       "      <td>4.810</td>\n",
       "      <td>5.0</td>\n",
       "    </tr>\n",
       "    <tr>\n",
       "      <th>...</th>\n",
       "      <td>...</td>\n",
       "      <td>...</td>\n",
       "      <td>...</td>\n",
       "      <td>...</td>\n",
       "      <td>...</td>\n",
       "      <td>...</td>\n",
       "      <td>...</td>\n",
       "      <td>...</td>\n",
       "    </tr>\n",
       "    <tr>\n",
       "      <th>64</th>\n",
       "      <td>6435</td>\n",
       "      <td>684813785</td>\n",
       "      <td>Richard Rhodes</td>\n",
       "      <td>1986.0</td>\n",
       "      <td>The Making of the Atomic Bomb</td>\n",
       "      <td>4.32</td>\n",
       "      <td>4.364</td>\n",
       "      <td>4.0</td>\n",
       "    </tr>\n",
       "    <tr>\n",
       "      <th>19</th>\n",
       "      <td>2613</td>\n",
       "      <td>NaN</td>\n",
       "      <td>Chimamanda Ngozi Adichie</td>\n",
       "      <td>2014.0</td>\n",
       "      <td>We Should All Be Feminists</td>\n",
       "      <td>4.47</td>\n",
       "      <td>4.363</td>\n",
       "      <td>4.0</td>\n",
       "    </tr>\n",
       "    <tr>\n",
       "      <th>60</th>\n",
       "      <td>6070</td>\n",
       "      <td>374266514</td>\n",
       "      <td>Jostein Gaarder, Sarah Jane Hails</td>\n",
       "      <td>1990.0</td>\n",
       "      <td>The Solitaire Mystery: A Novel About Family an...</td>\n",
       "      <td>4.16</td>\n",
       "      <td>4.362</td>\n",
       "      <td>4.0</td>\n",
       "    </tr>\n",
       "    <tr>\n",
       "      <th>58</th>\n",
       "      <td>5730</td>\n",
       "      <td>802131808</td>\n",
       "      <td>Sadegh Hedayat, D.P. Costello</td>\n",
       "      <td>1937.0</td>\n",
       "      <td>The Blind Owl</td>\n",
       "      <td>3.99</td>\n",
       "      <td>4.362</td>\n",
       "      <td>4.0</td>\n",
       "    </tr>\n",
       "    <tr>\n",
       "      <th>138</th>\n",
       "      <td>9458</td>\n",
       "      <td>785165630</td>\n",
       "      <td>Matt Fraction, David Aja, Francesco Francavill...</td>\n",
       "      <td>2013.0</td>\n",
       "      <td>Hawkeye, Volume 2: Little Hits</td>\n",
       "      <td>4.27</td>\n",
       "      <td>4.360</td>\n",
       "      <td>4.0</td>\n",
       "    </tr>\n",
       "  </tbody>\n",
       "</table>\n",
       "<p>150 rows × 8 columns</p>\n",
       "</div>"
      ],
      "text/plain": [
       "       id        isbn                                            authors  \\\n",
       "125  8946  9646534783                                              Hafez   \n",
       "99   7844    60198818                                   Ramachandra Guha   \n",
       "147  9842  1250058902                                    Brandon Stanton   \n",
       "52   5207   836217357                                     Bill Watterson   \n",
       "98   7831  9770148083               ØµÙØ§Ø­ Ø¬Ø§ÙÙÙ, ÙØ­ÙÙ Ø­ÙÙ   \n",
       "..    ...         ...                                                ...   \n",
       "64   6435   684813785                                     Richard Rhodes   \n",
       "19   2613         NaN                           Chimamanda Ngozi Adichie   \n",
       "60   6070   374266514                  Jostein Gaarder, Sarah Jane Hails   \n",
       "58   5730   802131808                      Sadegh Hedayat, D.P. Costello   \n",
       "138  9458   785165630  Matt Fraction, David Aja, Francesco Francavill...   \n",
       "\n",
       "       year                                              title  avg_rating  \\\n",
       "125  1380.0                                          The Divan        4.63   \n",
       "99   2007.0  India After Gandhi: The History of the World's...        4.34   \n",
       "147  2015.0                        Humans of New York: Stories        4.50   \n",
       "52   1993.0  The Days Are Just Packed: A Calvin and Hobbes ...        4.68   \n",
       "98   1963.0                 Ø±Ø¨Ø§Ø¹ÙØ§Øª ØµÙØ§Ø­ Ø¬Ø§ÙÙÙ        4.43   \n",
       "..      ...                                                ...         ...   \n",
       "64   1986.0                      The Making of the Atomic Bomb        4.32   \n",
       "19   2014.0                         We Should All Be Feminists        4.47   \n",
       "60   1990.0  The Solitaire Mystery: A Novel About Family an...        4.16   \n",
       "58   1937.0                                      The Blind Owl        3.99   \n",
       "138  2013.0                     Hawkeye, Volume 2: Little Hits        4.27   \n",
       "\n",
       "     predicted_rating  predicted_rating_scaled  \n",
       "125             5.000                      5.0  \n",
       "99              4.883                      5.0  \n",
       "147             4.838                      5.0  \n",
       "52              4.811                      5.0  \n",
       "98              4.810                      5.0  \n",
       "..                ...                      ...  \n",
       "64              4.364                      4.0  \n",
       "19              4.363                      4.0  \n",
       "60              4.362                      4.0  \n",
       "58              4.362                      4.0  \n",
       "138             4.360                      4.0  \n",
       "\n",
       "[150 rows x 8 columns]"
      ]
     },
     "execution_count": 2,
     "metadata": {},
     "output_type": "execute_result"
    }
   ],
   "source": [
    "model.recommend(1500)"
   ]
  },
  {
   "cell_type": "markdown",
   "metadata": {},
   "source": [
    "Surprisingly, the test (i.e. validation loss) is just as low as the Matrix Factorization model, and the training loss seems to converge equally fast and is about the same at the 100th epoch, so both models seem to perform equally good on the test data. For further comparison, we must now consider the performance of both models on the test data. But first we will visualize the embeddings."
   ]
  },
  {
   "cell_type": "markdown",
   "metadata": {},
   "source": [
    "### Visualizing embedding weights"
   ]
  },
  {
   "cell_type": "code",
   "execution_count": 4,
   "metadata": {},
   "outputs": [],
   "source": [
    "# Extract embeddings\n",
    "book_embeddings = model.item_embedding\n",
    "book_emb_weights = model.item_embedding.weight.detach().numpy()"
   ]
  },
  {
   "cell_type": "code",
   "execution_count": 5,
   "metadata": {},
   "outputs": [
    {
     "data": {
      "text/plain": [
       "<matplotlib.axes._subplots.AxesSubplot at 0x12c980e50>"
      ]
     },
     "execution_count": 5,
     "metadata": {},
     "output_type": "execute_result"
    },
    {
     "data": {
      "image/png": "[encoded data removed]",
      "text/plain": [
       "<Figure size 432x288 with 1 Axes>"
      ]
     },
     "metadata": {
      "needs_background": "light"
     },
     "output_type": "display_data"
    }
   ],
   "source": [
    "# Visualizing Embedding weights\n",
    "from sklearn.decomposition import PCA\n",
    "import seaborn as sns\n",
    "pca = PCA(n_components=2)\n",
    "pca_result = pca.fit_transform(book_emb_weights)\n",
    "sns.scatterplot(x=pca_result[:,0], y=pca_result[:,1])"
   ]
  },
  {
   "cell_type": "code",
   "execution_count": 7,
   "metadata": {},
   "outputs": [
    {
     "data": {
      "text/plain": [
       "1.0"
      ]
     },
     "execution_count": 7,
     "metadata": {},
     "output_type": "execute_result"
    }
   ],
   "source": [
    "book_emb_weights = book_emb_weights / np.linalg.norm(book_emb_weights, axis = 1).reshape((-1, 1))\n",
    "book_emb_weights[0][:10]\n",
    "np.sum(np.square(book_emb_weights[0]))"
   ]
  },
  {
   "cell_type": "code",
   "execution_count": 8,
   "metadata": {},
   "outputs": [
    {
     "data": {
      "text/plain": [
       "<matplotlib.axes._subplots.AxesSubplot at 0x1a33c37350>"
      ]
     },
     "execution_count": 8,
     "metadata": {},
     "output_type": "execute_result"
    },
    {
     "data": {
      "image/png": "[encoded data removed]",
      "text/plain": [
       "<Figure size 432x288 with 1 Axes>"
      ]
     },
     "metadata": {
      "needs_background": "light"
     },
     "output_type": "display_data"
    }
   ],
   "source": [
    "pca = PCA(n_components=2)\n",
    "pca_result = pca.fit_transform(book_emb_weights)\n",
    "sns.scatterplot(x=pca_result[:,0], y=pca_result[:,1])"
   ]
  },
  {
   "cell_type": "markdown",
   "metadata": {},
   "source": [
    "It is worth noting that both Matrix Factorization models have very similar distribution of embedding weights and that some outliers can be clearly spotted, while the bulk of the weights clearly centers around a certain space. This could potentially explain the good results for the test loss of both."
   ]
  },
  {
   "cell_type": "markdown",
   "metadata": {},
   "source": [
    "## Evaluating the system \n",
    "In the next part, just as with the simple Matrix Factorization model, I will evaluate the performance of the Biased Matrix Factorization model on the test dataset. First, we will measure how far on average the predicted ratings are, but before that summary:"
   ]
  },
  {
   "cell_type": "code",
   "execution_count": 58,
   "metadata": {},
   "outputs": [
    {
     "name": "stdout",
     "output_type": "stream",
     "text": [
      "              precision    recall  f1-score   support\n",
      "\n",
      "           1       0.02      0.01      0.01      1792\n",
      "           2       0.06      0.22      0.10      6259\n",
      "           3       0.25      0.70      0.37     24420\n",
      "           4       0.37      0.08      0.14     36094\n",
      "           5       0.24      0.00      0.00     29811\n",
      "\n",
      "    accuracy                           0.22     98376\n",
      "   macro avg       0.19      0.20      0.12     98376\n",
      "weighted avg       0.27      0.22      0.15     98376\n",
      "\n"
     ]
    }
   ],
   "source": [
    "from sklearn.metrics import classification_report\n",
    "true_ratings = test_ratings.rating\n",
    "print(sklearn.metrics.classification_report(true_ratings, test_predictions, labels=[1, 2, 3, 4, 5], zero_division=0))"
   ]
  },
  {
   "cell_type": "code",
   "execution_count": 59,
   "metadata": {},
   "outputs": [
    {
     "name": "stdout",
     "output_type": "stream",
     "text": [
      "Total count of rating class 1 predicted: 561\n",
      "Total count of rating class 2 predicted: 21176\n",
      "Total count of rating class 3 predicted: 68274\n",
      "Total count of rating class 4 predicted: 8328\n",
      "Total count of rating class 5 predicted: 37\n"
     ]
    }
   ],
   "source": [
    "r1_count = test_predictions.count(1)\n",
    "r2_count = test_predictions.count(2)\n",
    "r3_count = test_predictions.count(3)\n",
    "r4_count = test_predictions.count(4)\n",
    "r5_count = test_predictions.count(5)\n",
    "\n",
    "print(\"Total count of rating class 1 predicted: {}\".format(r1_count))\n",
    "print(\"Total count of rating class 2 predicted: {}\".format(r2_count))\n",
    "print(\"Total count of rating class 3 predicted: {}\".format(r3_count))\n",
    "print(\"Total count of rating class 4 predicted: {}\".format(r4_count))\n",
    "print(\"Total count of rating class 5 predicted: {}\".format(r5_count))"
   ]
  },
  {
   "cell_type": "code",
   "execution_count": 60,
   "metadata": {},
   "outputs": [
    {
     "data": {
      "image/png": "[encoded data removed]",
      "text/plain": [
       "<Figure size 432x288 with 1 Axes>"
      ]
     },
     "metadata": {
      "needs_background": "light"
     },
     "output_type": "display_data"
    }
   ],
   "source": [
    "import matplotlib.pyplot as plt\n",
    "fig = plt.figure()\n",
    "ax = fig.add_axes([0,0,1,1])\n",
    "ymax = len(test_ratings.rating)\n",
    "ymin = 0\n",
    "ax.set_ylim([ymin,ymax])\n",
    "ratings = ['rating=5', 'rating=4', 'rating=3', 'rating=2', 'rating=1']\n",
    "counts = [r5_count, r4_count, r3_count, r2_count, r1_count]\n",
    "ax.bar(ratings,counts)\n",
    "plt.show()"
   ]
  },
  {
   "cell_type": "code",
   "execution_count": 61,
   "metadata": {},
   "outputs": [
    {
     "name": "stdout",
     "output_type": "stream",
     "text": [
      "The regression loss for the MF model on the test data is: 1.2351081564609254\n"
     ]
    }
   ],
   "source": [
    "regression_loss_bmf = regression_loss(test_predictions)\n",
    "print(\"The regression loss for the MF model on the test data is: {}\".format(regression_loss_bmf))"
   ]
  },
  {
   "cell_type": "markdown",
   "metadata": {},
   "source": [
    "As it visible from the value of the 1.23 for the regression loss, the Biased Matrix Factorizaiton provides a better generalization of the model and doesn't overfit quite as much as the simple Matrix Factorization model does. However, it is still off by 1.2 on a rating scale merely ranging from 1-5, which could influence the final recommendations and especially their ordering due to aforementioned ordering of recommendations by their value for predicted ratings. Now onto analyzing how off the system really predicts the ratings:"
   ]
  },
  {
   "cell_type": "code",
   "execution_count": 62,
   "metadata": {},
   "outputs": [
    {
     "name": "stdout",
     "output_type": "stream",
     "text": [
      "Total amount of correctly predicted ratings: 21481\n",
      "Total amount of incorrectly predicted ratings: 76895\n",
      "Accuracy of the model in percent: 21.84%\n",
      "Predictions off by one: 39527\n",
      "Percentage of ratings off by one out of all the test data: 40.18%\n",
      "Percentage of ratings off by one out of incorrectly predicted ratings: 51.40%\n"
     ]
    }
   ],
   "source": [
    "# First, we will analyze how many ratings are off by one\n",
    "class_loss = classification_loss(test_predictions, diff=1)\n",
    "print(\"Total amount of correctly predicted ratings: {}\".format(len(test_ratings.rating) - class_loss[0]))\n",
    "print(\"Total amount of incorrectly predicted ratings: {}\".format(class_loss[0]))\n",
    "print(\"Accuracy of the model in percent: {:.2f}%\".format(class_loss[1]))\n",
    "print(\"Predictions off by one: {}\".format(class_loss[2]))\n",
    "print(\"Percentage of ratings off by one out of all the test data: {:.2f}%\".format(class_loss[3]*100))\n",
    "print(\"Percentage of ratings off by one out of incorrectly predicted ratings: {:.2f}%\".format(class_loss[4]*100))"
   ]
  },
  {
   "cell_type": "markdown",
   "metadata": {},
   "source": [
    "Here, we can notice further improvements from the simple Matrix Factorization system, as the Bias MF system is now able to (at least) predict roughly 22% of the test data correctly. This further underlines the notion that the adding Biases improves generalization of the model and prevents extreme overfitting. The predictions off by \"just\" one are also considerable, which means that the Bias MF model manages to predict ratings that are extremely off from their ground truths. Now we will analyze how it performed for the other differences:"
   ]
  },
  {
   "cell_type": "code",
   "execution_count": 63,
   "metadata": {},
   "outputs": [
    {
     "name": "stdout",
     "output_type": "stream",
     "text": [
      "Predictions off by two: 30322\n",
      "Percentage of ratings off by two out of all the test data: 30.82%\n",
      "Percentage of ratings off by two out of incorrectly predicted ratings: 39.43%\n"
     ]
    }
   ],
   "source": [
    "class_loss_two = classification_loss(test_predictions, diff=2)\n",
    "print(\"Predictions off by two: {}\".format(class_loss_two[2]))\n",
    "print(\"Percentage of ratings off by two out of all the test data: {:.2f}%\".format(class_loss_two[3]*100))\n",
    "print(\"Percentage of ratings off by two out of incorrectly predicted ratings: {:.2f}%\".format(class_loss_two[4]*100))"
   ]
  },
  {
   "cell_type": "code",
   "execution_count": 64,
   "metadata": {},
   "outputs": [
    {
     "name": "stdout",
     "output_type": "stream",
     "text": [
      "Predictions off by three: 6850\n",
      "Percentage of ratings off by three out of all the test data: 6.96%\n",
      "Percentage of ratings off by three out of incorrectly predicted ratings: 8.91%\n"
     ]
    }
   ],
   "source": [
    "#Ratings off by three\n",
    "class_loss_three = classification_loss(test_predictions, diff=3)\n",
    "print(\"Predictions off by three: {}\".format(class_loss_three[2]))\n",
    "print(\"Percentage of ratings off by three out of all the test data: {:.2f}%\".format(class_loss_three[3]*100))\n",
    "print(\"Percentage of ratings off by three out of incorrectly predicted ratings: {:.2f}%\".format(class_loss_three[4]*100))"
   ]
  },
  {
   "cell_type": "code",
   "execution_count": 65,
   "metadata": {},
   "outputs": [
    {
     "name": "stdout",
     "output_type": "stream",
     "text": [
      "Predictions off by four: 196\n",
      "Percentage of ratings off by four out of all the test data: 0.20%\n",
      "Percentage of ratings off by four out of incorrectly predicted ratings: 0.25%\n"
     ]
    }
   ],
   "source": [
    "# Ratings off by four \n",
    "class_loss_four = classification_loss(test_predictions, diff=4)\n",
    "print(\"Predictions off by four: {}\".format(class_loss_four[2]))\n",
    "print(\"Percentage of ratings off by four out of all the test data: {:.2f}%\".format(class_loss_four[3]*100))\n",
    "print(\"Percentage of ratings off by four out of incorrectly predicted ratings: {:.2f}%\".format(class_loss_four[4]*100))"
   ]
  },
  {
   "cell_type": "code",
   "execution_count": 66,
   "metadata": {},
   "outputs": [
    {
     "data": {
      "image/png": "[encoded data removed]",
      "text/plain": [
       "<Figure size 432x288 with 1 Axes>"
      ]
     },
     "metadata": {
      "needs_background": "light"
     },
     "output_type": "display_data"
    }
   ],
   "source": [
    "# Plotting the data to show difference between correctly and incorrectly predicted ratings\n",
    "import matplotlib.pyplot as plt\n",
    "fig = plt.figure()\n",
    "ax = fig.add_axes([0,0,1,1])\n",
    "ymax = len(test_ratings.rating)\n",
    "ymin = 0\n",
    "ax.set_ylim([ymin,ymax])\n",
    "correct = ymax - class_loss[0]\n",
    "offs = ['correctly predicted', 'incorrectly predicted']\n",
    "counts = [correct, class_loss[0]]\n",
    "ax.bar(offs,counts)\n",
    "plt.show()"
   ]
  },
  {
   "cell_type": "code",
   "execution_count": 67,
   "metadata": {},
   "outputs": [
    {
     "data": {
      "image/png": "[encoded data removed]",
      "text/plain": [
       "<Figure size 432x288 with 1 Axes>"
      ]
     },
     "metadata": {
      "needs_background": "light"
     },
     "output_type": "display_data"
    }
   ],
   "source": [
    "# Plotting the amount of ratings that were off by 1, 2, 3, 4 respectively out of all incorrectly predicted ratings\n",
    "fig2 = plt.figure()\n",
    "ax2 = fig2.add_axes([0,0,1,1])\n",
    "ymax = class_loss[0]\n",
    "ymin = 0\n",
    "ax2.set_ylim([ymin,ymax])\n",
    "offs = ['off by one', 'off by two', 'off by three', 'off by four']\n",
    "counts = [class_loss[2],class_loss_two[2], class_loss_three[2], class_loss_four[2]]\n",
    "ax2.bar(offs,counts)\n",
    "plt.show()"
   ]
  },
  {
   "cell_type": "markdown",
   "metadata": {},
   "source": [
    "As it can be seen both from the actual values and the plots, the system doesn't get the ratings awfully off (i.e. off by three or four), but it still manages to predict ratings which are the complete opposite, which is not desirable. Still, it is an improvement over the Matrix Factorization model."
   ]
  },
  {
   "cell_type": "code",
   "execution_count": 68,
   "metadata": {},
   "outputs": [
    {
     "data": {
      "text/plain": [
       "array([5.58035714e-03, 2.17926186e-01, 6.98034398e-01, 8.45569901e-02,\n",
       "       3.01901982e-04])"
      ]
     },
     "execution_count": 68,
     "metadata": {},
     "output_type": "execute_result"
    }
   ],
   "source": [
    "import sklearn\n",
    "from sklearn.metrics import confusion_matrix\n",
    "cm = confusion_matrix(test_ratings.rating, test_predictions)\n",
    "cm = cm.astype('float') / cm.sum(axis=1)[:, np.newaxis]\n",
    "cm.diagonal()\n",
    "# Diagonal values are accuracies for each rating class"
   ]
  },
  {
   "cell_type": "markdown",
   "metadata": {},
   "source": [
    "Now we will look at the Recall values of the system:"
   ]
  },
  {
   "cell_type": "code",
   "execution_count": 69,
   "metadata": {},
   "outputs": [
    {
     "name": "stdout",
     "output_type": "stream",
     "text": [
      "Recall for rating 5: 0.030%\n",
      "Recall for rating 4: 8.456%\n",
      "Recall for rating 3: 69.803%\n",
      "Recall for rating 2: 21.793%\n",
      "Recall for rating 1: 0.558%\n",
      "Total macro averaged recall: 20.128%\n"
     ]
    }
   ],
   "source": [
    "# Recalls \n",
    "recall_five = recall_per(test_predictions, 5)\n",
    "recall_four = recall_per(test_predictions, 4)\n",
    "recall_three = recall_per(test_predictions, 3)\n",
    "recall_two = recall_per(test_predictions, 2)\n",
    "recall_one = recall_per(test_predictions, 1)\n",
    "recall_total = recall_macro_avg(test_predictions)\n",
    "\n",
    "print(\"Recall for rating 5: {:.3f}%\".format(recall_five))\n",
    "print(\"Recall for rating 4: {:.3f}%\".format(recall_four))\n",
    "print(\"Recall for rating 3: {:.3f}%\".format(recall_three))\n",
    "print(\"Recall for rating 2: {:.3f}%\".format(recall_two))\n",
    "print(\"Recall for rating 1: {:.3f}%\".format(recall_one))\n",
    "print(\"Total macro averaged recall: {:.3f}%\".format(recall_total))"
   ]
  },
  {
   "cell_type": "markdown",
   "metadata": {},
   "source": [
    "The data for recall shows that the Biased MF model clearly struggled with the predictions for the rating class 5 and the rating class 1 right. However, the performance for the rating class 3 is by far the best and nearly two thirds of the truth labels of this rating class were correctly identified. This may come as a surprise since rating class 4 was the label class which had the highest occurence among the test ratings. However, as the uppermost plot shows, this may be a consequence of the fact that rating class 3 has been by far predicted the most"
   ]
  },
  {
   "cell_type": "code",
   "execution_count": 70,
   "metadata": {},
   "outputs": [
    {
     "data": {
      "image/png": "[encoded data removed]",
      "text/plain": [
       "<Figure size 432x288 with 1 Axes>"
      ]
     },
     "metadata": {
      "needs_background": "light"
     },
     "output_type": "display_data"
    }
   ],
   "source": [
    "# Plotting the recall\n",
    "fig3 = plt.figure()\n",
    "ax3 = fig3.add_axes([0,0,1,1])\n",
    "ticks = [10,20,30,40,50,60, 70, 80, 90, 100]\n",
    "ax3.set_yticks(ticks)\n",
    "ymax = 100\n",
    "ymin = 0\n",
    "ax3.set_ylim([ymin,ymax])\n",
    "ratings = ['rating=5', 'rating=4', 'rating=3', 'rating=2', 'rating=1']\n",
    "counts = [recall_five, recall_four, recall_three, recall_two, recall_one]\n",
    "ax3.bar(ratings,counts)\n",
    "plt.show()"
   ]
  },
  {
   "cell_type": "markdown",
   "metadata": {},
   "source": [
    "The next metric to be analyzed is the "
   ]
  },
  {
   "cell_type": "code",
   "execution_count": 71,
   "metadata": {},
   "outputs": [
    {
     "name": "stdout",
     "output_type": "stream",
     "text": [
      "Precision for rating 5: 24.324%\n",
      "Precision for rating 4: 36.647%\n",
      "Precision for rating 3: 24.967%\n",
      "Precision for rating 2: 6.441%\n",
      "Precision for rating 1: 1.783%\n",
      "Total macro averaged precision: 18.833%\n"
     ]
    }
   ],
   "source": [
    "##Analyzing precisions\n",
    "precision_five = precision_per(test_predictions, 5)\n",
    "precision_four = precision_per(test_predictions, 4)\n",
    "precision_three = precision_per(test_predictions, 3)\n",
    "precision_two = precision_per(test_predictions, 2)\n",
    "precision_one = precision_per(test_predictions, 1)\n",
    "precision_total = precision_macro_avg(test_predictions)\n",
    "\n",
    "print(\"Precision for rating 5: {:.3f}%\".format(precision_five*100))\n",
    "print(\"Precision for rating 4: {:.3f}%\".format(precision_four*100))\n",
    "print(\"Precision for rating 3: {:.3f}%\".format(precision_three*100))\n",
    "print(\"Precision for rating 2: {:.3f}%\".format(precision_two*100))\n",
    "print(\"Precision for rating 1: {:.3f}%\".format(precision_one*100))\n",
    "print(\"Total macro averaged precision: {:.3f}%\".format(precision_total*100))"
   ]
  },
  {
   "cell_type": "code",
   "execution_count": 72,
   "metadata": {},
   "outputs": [
    {
     "data": {
      "image/png": "[encoded data removed]",
      "text/plain": [
       "<Figure size 432x288 with 1 Axes>"
      ]
     },
     "metadata": {
      "needs_background": "light"
     },
     "output_type": "display_data"
    }
   ],
   "source": [
    "##Plotting precisions\n",
    "fig4 = plt.figure()\n",
    "ax4 = fig4.add_axes([0,0,1,1])\n",
    "ax4.set_yticks(ticks)\n",
    "ymax = 100\n",
    "ymin = 0\n",
    "ax4.set_ylim([ymin,ymax])\n",
    "ratings = ['rating=5', 'rating=4', 'rating=3', 'rating=2', 'rating=1']\n",
    "counts = [precision_five*100, precision_four*100, precision_three*100, precision_two*100, precision_one*100]\n",
    "ax4.bar(ratings,counts)\n",
    "plt.show()"
   ]
  },
  {
   "cell_type": "markdown",
   "metadata": {},
   "source": [
    "With precision, the system struggles least with rating class 4, potentially it's the most often occurring true label in the test data, but again low performance on the rating class 1 and 2 can be observed. "
   ]
  },
  {
   "cell_type": "code",
   "execution_count": 73,
   "metadata": {},
   "outputs": [
    {
     "name": "stdout",
     "output_type": "stream",
     "text": [
      "F1-measure for rating class 5: 0.000%\n",
      "F1-measure for rating class 4: 14.000%\n",
      "F1-measure for rating class 3: 37.000%\n",
      "F1-measure for rating class 2: 10.000%\n",
      "F1-measure total for the test set macro-averaged: 12.275%\n",
      "Weighted F1-measure for the test set 14.838%\n",
      "Weighted F1-measure for the test set micro-averaged: 21.836%\n"
     ]
    }
   ],
   "source": [
    "from sklearn.metrics import f1_score\n",
    "\n",
    "\n",
    "f_five =  0.0\n",
    "f_four = 0.14\n",
    "f_three = 0.37\n",
    "f_two = 0.10\n",
    "f_one = 0.01 #f_measure_per function will cause a ZeroDivisionError\n",
    "# because of this, I will add up the percentages and divide them  by the number of output (i.e. rating) classes\n",
    "f_total = f1_score(test_ratings.rating, test_predictions, average='macro')\n",
    "f1_total_weighted = f1_score(test_ratings.rating, test_predictions, average='weighted')\n",
    "f1_total_micro = f1_score(test_ratings.rating, test_predictions, average='micro')\n",
    "\n",
    "\n",
    "print(\"F1-measure for rating class 5: {:.3f}%\".format(f_five*100))\n",
    "print(\"F1-measure for rating class 4: {:.3f}%\".format(f_four*100))\n",
    "print(\"F1-measure for rating class 3: {:.3f}%\".format(f_three*100))\n",
    "print(\"F1-measure for rating class 2: {:.3f}%\".format(f_two*100))\n",
    "print(\"F1-measure total for the test set macro-averaged: {:.3f}%\".format(f_total*100))\n",
    "print(\"Weighted F1-measure for the test set {:.3f}%\".format(f1_total_weighted*100))\n",
    "print(\"Weighted F1-measure for the test set micro-averaged: {:.3f}%\".format(f1_total_micro*100))"
   ]
  },
  {
   "cell_type": "code",
   "execution_count": 74,
   "metadata": {},
   "outputs": [
    {
     "data": {
      "image/png": "[encoded data removed]",
      "text/plain": [
       "<Figure size 432x288 with 1 Axes>"
      ]
     },
     "metadata": {
      "needs_background": "light"
     },
     "output_type": "display_data"
    }
   ],
   "source": [
    "# Plotting the f-measures\n",
    "fig5 = plt.figure()\n",
    "ax5 = fig5.add_axes([0,0,1,1])\n",
    "ax5.set_yticks(ticks)\n",
    "ymax = 100\n",
    "ymin = 0\n",
    "ax5.set_ylim([ymin,ymax])\n",
    "ratings = ['rating=5', 'rating=4', 'rating=3', 'rating=2', 'rating=1']\n",
    "counts = [f_five*100, f_four*100, f_three*100, f_two*100, 0]\n",
    "ax5.bar(ratings,counts)\n",
    "plt.show()"
   ]
  },
  {
   "cell_type": "markdown",
   "metadata": {},
   "source": [
    "The dismal f-measures for rating 1 and rating further underline the fact that the Biased MF model greatly struggled with the minimum and maximum rating class, while it performed well on the ratings inbetween them, particularly rating class 3. This may however be a result of the fact that the Bias MF clearly has a preference for predicting rating class 3. "
   ]
  },
  {
   "cell_type": "markdown",
   "metadata": {},
   "source": [
    "## Conclusion\n",
    "While better than the simple Matrix Factorization model, the Bias MF model still seems to have a lot of issues on unseen data, although performing similarly well on training and validation data. Nonetheless, the added biases are in fact helpful in preventing overfitting for the model since the accuracy has visibly improved thanks to the addition of them in the forward pass. This begs the question whether a model based on **Neural Network** architecture could even further improve performance."
   ]
  }
 ],
 "metadata": {
  "kernelspec": {
   "display_name": "Python 3",
   "language": "python",
   "name": "python3"
  },
  "language_info": {
   "codemirror_mode": {
    "name": "ipython",
    "version": 3
   },
   "file_extension": ".py",
   "mimetype": "text/x-python",
   "name": "python",
   "nbconvert_exporter": "python",
   "pygments_lexer": "ipython3",
   "version": "3.7.7"
  }
 },
 "nbformat": 4,
 "nbformat_minor": 4
}
